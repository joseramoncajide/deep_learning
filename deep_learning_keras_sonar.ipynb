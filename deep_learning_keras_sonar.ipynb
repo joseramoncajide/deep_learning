{
  "nbformat": 4,
  "nbformat_minor": 0,
  "metadata": {
    "colab": {
      "name": "deep_learning_keras_sonar.ipynb",
      "version": "0.3.2",
      "provenance": []
    }
  },
  "cells": [
    {
      "metadata": {
        "id": "1PzM_b2C2Uxt",
        "colab_type": "text"
      },
      "cell_type": "markdown",
      "source": [
        "\n",
        "\n",
        "```\n",
        "train a network to discriminate between sonar signals bounced off a metal cylinder and those bounced off a roughly cylindrical rock.\n",
        "```\n",
        "\n"
      ]
    },
    {
      "metadata": {
        "id": "27NewMYnjTL4",
        "colab_type": "code",
        "colab": {
          "base_uri": "https://localhost:8080/",
          "height": 34
        },
        "outputId": "2364cca1-9fd3-4fcf-a23a-8fc0a1a8de92"
      },
      "cell_type": "code",
      "source": [
        "\n",
        "\n",
        "import numpy as np\n",
        "import pandas\n",
        "from keras.models import Sequential\n",
        "from keras.layers import Dense\n",
        "from keras.wrappers.scikit_learn import KerasClassifier\n",
        "from sklearn.model_selection import cross_val_score\n",
        "from sklearn.preprocessing import LabelEncoder\n",
        "from sklearn.model_selection import StratifiedKFold\n",
        "from sklearn.preprocessing import StandardScaler\n",
        "from sklearn.pipeline import Pipeline\n",
        "from sklearn.model_selection import train_test_split\n"
      ],
      "execution_count": 0,
      "outputs": [
        {
          "output_type": "stream",
          "text": [
            "Using TensorFlow backend.\n"
          ],
          "name": "stderr"
        }
      ]
    },
    {
      "metadata": {
        "id": "Y8txAHVTjV9N",
        "colab_type": "code",
        "colab": {}
      },
      "cell_type": "code",
      "source": [
        "seed = 1973\n",
        "np.random.seed(seed)"
      ],
      "execution_count": 0,
      "outputs": []
    },
    {
      "metadata": {
        "id": "2CmUzsuekQfy",
        "colab_type": "code",
        "colab": {
          "base_uri": "https://localhost:8080/",
          "height": 160
        },
        "outputId": "a286f7f1-5f90-4558-e838-0c3f1848a1eb"
      },
      "cell_type": "code",
      "source": [
        "# load dataset\n",
        "df = pandas.read_csv(\"https://archive.ics.uci.edu/ml/machine-learning-databases/undocumented/connectionist-bench/sonar/sonar.all-data\", header=None)\n",
        "df.head(2)"
      ],
      "execution_count": 0,
      "outputs": [
        {
          "output_type": "execute_result",
          "data": {
            "text/html": [
              "<div>\n",
              "<style scoped>\n",
              "    .dataframe tbody tr th:only-of-type {\n",
              "        vertical-align: middle;\n",
              "    }\n",
              "\n",
              "    .dataframe tbody tr th {\n",
              "        vertical-align: top;\n",
              "    }\n",
              "\n",
              "    .dataframe thead th {\n",
              "        text-align: right;\n",
              "    }\n",
              "</style>\n",
              "<table border=\"1\" class=\"dataframe\">\n",
              "  <thead>\n",
              "    <tr style=\"text-align: right;\">\n",
              "      <th></th>\n",
              "      <th>0</th>\n",
              "      <th>1</th>\n",
              "      <th>2</th>\n",
              "      <th>3</th>\n",
              "      <th>4</th>\n",
              "      <th>5</th>\n",
              "      <th>6</th>\n",
              "      <th>7</th>\n",
              "      <th>8</th>\n",
              "      <th>9</th>\n",
              "      <th>...</th>\n",
              "      <th>51</th>\n",
              "      <th>52</th>\n",
              "      <th>53</th>\n",
              "      <th>54</th>\n",
              "      <th>55</th>\n",
              "      <th>56</th>\n",
              "      <th>57</th>\n",
              "      <th>58</th>\n",
              "      <th>59</th>\n",
              "      <th>60</th>\n",
              "    </tr>\n",
              "  </thead>\n",
              "  <tbody>\n",
              "    <tr>\n",
              "      <th>0</th>\n",
              "      <td>0.0200</td>\n",
              "      <td>0.0371</td>\n",
              "      <td>0.0428</td>\n",
              "      <td>0.0207</td>\n",
              "      <td>0.0954</td>\n",
              "      <td>0.0986</td>\n",
              "      <td>0.1539</td>\n",
              "      <td>0.1601</td>\n",
              "      <td>0.3109</td>\n",
              "      <td>0.2111</td>\n",
              "      <td>...</td>\n",
              "      <td>0.0027</td>\n",
              "      <td>0.0065</td>\n",
              "      <td>0.0159</td>\n",
              "      <td>0.0072</td>\n",
              "      <td>0.0167</td>\n",
              "      <td>0.018</td>\n",
              "      <td>0.0084</td>\n",
              "      <td>0.0090</td>\n",
              "      <td>0.0032</td>\n",
              "      <td>R</td>\n",
              "    </tr>\n",
              "    <tr>\n",
              "      <th>1</th>\n",
              "      <td>0.0453</td>\n",
              "      <td>0.0523</td>\n",
              "      <td>0.0843</td>\n",
              "      <td>0.0689</td>\n",
              "      <td>0.1183</td>\n",
              "      <td>0.2583</td>\n",
              "      <td>0.2156</td>\n",
              "      <td>0.3481</td>\n",
              "      <td>0.3337</td>\n",
              "      <td>0.2872</td>\n",
              "      <td>...</td>\n",
              "      <td>0.0084</td>\n",
              "      <td>0.0089</td>\n",
              "      <td>0.0048</td>\n",
              "      <td>0.0094</td>\n",
              "      <td>0.0191</td>\n",
              "      <td>0.014</td>\n",
              "      <td>0.0049</td>\n",
              "      <td>0.0052</td>\n",
              "      <td>0.0044</td>\n",
              "      <td>R</td>\n",
              "    </tr>\n",
              "  </tbody>\n",
              "</table>\n",
              "<p>2 rows × 61 columns</p>\n",
              "</div>"
            ],
            "text/plain": [
              "       0       1       2       3       4       5       6       7       8   \\\n",
              "0  0.0200  0.0371  0.0428  0.0207  0.0954  0.0986  0.1539  0.1601  0.3109   \n",
              "1  0.0453  0.0523  0.0843  0.0689  0.1183  0.2583  0.2156  0.3481  0.3337   \n",
              "\n",
              "       9  ...      51      52      53      54      55     56      57      58  \\\n",
              "0  0.2111 ...  0.0027  0.0065  0.0159  0.0072  0.0167  0.018  0.0084  0.0090   \n",
              "1  0.2872 ...  0.0084  0.0089  0.0048  0.0094  0.0191  0.014  0.0049  0.0052   \n",
              "\n",
              "       59  60  \n",
              "0  0.0032   R  \n",
              "1  0.0044   R  \n",
              "\n",
              "[2 rows x 61 columns]"
            ]
          },
          "metadata": {
            "tags": []
          },
          "execution_count": 3
        }
      ]
    },
    {
      "metadata": {
        "id": "qxkrEhY0lUxy",
        "colab_type": "code",
        "colab": {
          "base_uri": "https://localhost:8080/",
          "height": 34
        },
        "outputId": "b2bbf9aa-2c06-4715-ddce-ecf60143d5d3"
      },
      "cell_type": "code",
      "source": [
        "df.shape"
      ],
      "execution_count": 0,
      "outputs": [
        {
          "output_type": "execute_result",
          "data": {
            "text/plain": [
              "(208, 61)"
            ]
          },
          "metadata": {
            "tags": []
          },
          "execution_count": 4
        }
      ]
    },
    {
      "metadata": {
        "id": "I2MHCdIckd3I",
        "colab_type": "code",
        "colab": {
          "base_uri": "https://localhost:8080/",
          "height": 136
        },
        "outputId": "f06a66e8-d11d-49ba-c8c3-f81ec16fd566"
      },
      "cell_type": "code",
      "source": [
        "dataset = df.values\n",
        "dataset\n"
      ],
      "execution_count": 0,
      "outputs": [
        {
          "output_type": "execute_result",
          "data": {
            "text/plain": [
              "array([[0.02, 0.0371, 0.0428, ..., 0.009, 0.0032, 'R'],\n",
              "       [0.0453, 0.0523, 0.0843, ..., 0.0052, 0.0044, 'R'],\n",
              "       [0.0262, 0.0582, 0.1099, ..., 0.0095, 0.0078, 'R'],\n",
              "       ...,\n",
              "       [0.0522, 0.0437, 0.018, ..., 0.0077, 0.0031, 'M'],\n",
              "       [0.0303, 0.0353, 0.049, ..., 0.0036, 0.0048, 'M'],\n",
              "       [0.026, 0.0363, 0.0136, ..., 0.0061, 0.0115, 'M']], dtype=object)"
            ]
          },
          "metadata": {
            "tags": []
          },
          "execution_count": 5
        }
      ]
    },
    {
      "metadata": {
        "id": "WBTf3aLtlDxF",
        "colab_type": "code",
        "colab": {
          "base_uri": "https://localhost:8080/",
          "height": 136
        },
        "outputId": "0e52f608-f825-4c9a-b6db-15c782bf489d"
      },
      "cell_type": "code",
      "source": [
        "dataset[:,0:60]"
      ],
      "execution_count": 0,
      "outputs": [
        {
          "output_type": "execute_result",
          "data": {
            "text/plain": [
              "array([[0.02, 0.0371, 0.0428, ..., 0.0084, 0.009, 0.0032],\n",
              "       [0.0453, 0.0523, 0.0843, ..., 0.0049, 0.0052, 0.0044],\n",
              "       [0.0262, 0.0582, 0.1099, ..., 0.0164, 0.0095, 0.0078],\n",
              "       ...,\n",
              "       [0.0522, 0.0437, 0.018, ..., 0.0138, 0.0077, 0.0031],\n",
              "       [0.0303, 0.0353, 0.049, ..., 0.0079, 0.0036, 0.0048],\n",
              "       [0.026, 0.0363, 0.0136, ..., 0.0036, 0.0061, 0.0115]], dtype=object)"
            ]
          },
          "metadata": {
            "tags": []
          },
          "execution_count": 6
        }
      ]
    },
    {
      "metadata": {
        "id": "auw3z_NvlIWy",
        "colab_type": "code",
        "colab": {
          "base_uri": "https://localhost:8080/",
          "height": 136
        },
        "outputId": "10dc2645-d96a-49d0-c771-708609dabd53"
      },
      "cell_type": "code",
      "source": [
        "dataset[:,0:60].astype(float)"
      ],
      "execution_count": 0,
      "outputs": [
        {
          "output_type": "execute_result",
          "data": {
            "text/plain": [
              "array([[0.02  , 0.0371, 0.0428, ..., 0.0084, 0.009 , 0.0032],\n",
              "       [0.0453, 0.0523, 0.0843, ..., 0.0049, 0.0052, 0.0044],\n",
              "       [0.0262, 0.0582, 0.1099, ..., 0.0164, 0.0095, 0.0078],\n",
              "       ...,\n",
              "       [0.0522, 0.0437, 0.018 , ..., 0.0138, 0.0077, 0.0031],\n",
              "       [0.0303, 0.0353, 0.049 , ..., 0.0079, 0.0036, 0.0048],\n",
              "       [0.026 , 0.0363, 0.0136, ..., 0.0036, 0.0061, 0.0115]])"
            ]
          },
          "metadata": {
            "tags": []
          },
          "execution_count": 7
        }
      ]
    },
    {
      "metadata": {
        "id": "fYr_Qj7rlQTW",
        "colab_type": "code",
        "colab": {
          "base_uri": "https://localhost:8080/",
          "height": 306
        },
        "outputId": "1d73a83d-929a-441a-a399-198536f6dbbf"
      },
      "cell_type": "code",
      "source": [
        "dataset[:,60]"
      ],
      "execution_count": 0,
      "outputs": [
        {
          "output_type": "execute_result",
          "data": {
            "text/plain": [
              "array(['R', 'R', 'R', 'R', 'R', 'R', 'R', 'R', 'R', 'R', 'R', 'R', 'R',\n",
              "       'R', 'R', 'R', 'R', 'R', 'R', 'R', 'R', 'R', 'R', 'R', 'R', 'R',\n",
              "       'R', 'R', 'R', 'R', 'R', 'R', 'R', 'R', 'R', 'R', 'R', 'R', 'R',\n",
              "       'R', 'R', 'R', 'R', 'R', 'R', 'R', 'R', 'R', 'R', 'R', 'R', 'R',\n",
              "       'R', 'R', 'R', 'R', 'R', 'R', 'R', 'R', 'R', 'R', 'R', 'R', 'R',\n",
              "       'R', 'R', 'R', 'R', 'R', 'R', 'R', 'R', 'R', 'R', 'R', 'R', 'R',\n",
              "       'R', 'R', 'R', 'R', 'R', 'R', 'R', 'R', 'R', 'R', 'R', 'R', 'R',\n",
              "       'R', 'R', 'R', 'R', 'R', 'R', 'M', 'M', 'M', 'M', 'M', 'M', 'M',\n",
              "       'M', 'M', 'M', 'M', 'M', 'M', 'M', 'M', 'M', 'M', 'M', 'M', 'M',\n",
              "       'M', 'M', 'M', 'M', 'M', 'M', 'M', 'M', 'M', 'M', 'M', 'M', 'M',\n",
              "       'M', 'M', 'M', 'M', 'M', 'M', 'M', 'M', 'M', 'M', 'M', 'M', 'M',\n",
              "       'M', 'M', 'M', 'M', 'M', 'M', 'M', 'M', 'M', 'M', 'M', 'M', 'M',\n",
              "       'M', 'M', 'M', 'M', 'M', 'M', 'M', 'M', 'M', 'M', 'M', 'M', 'M',\n",
              "       'M', 'M', 'M', 'M', 'M', 'M', 'M', 'M', 'M', 'M', 'M', 'M', 'M',\n",
              "       'M', 'M', 'M', 'M', 'M', 'M', 'M', 'M', 'M', 'M', 'M', 'M', 'M',\n",
              "       'M', 'M', 'M', 'M', 'M', 'M', 'M', 'M', 'M', 'M', 'M', 'M', 'M'],\n",
              "      dtype=object)"
            ]
          },
          "metadata": {
            "tags": []
          },
          "execution_count": 8
        }
      ]
    },
    {
      "metadata": {
        "id": "vJtuxjhHk2-S",
        "colab_type": "code",
        "colab": {}
      },
      "cell_type": "code",
      "source": [
        "# split into input (X) and output (Y) variables\n",
        "X = dataset[:,0:60].astype(float)\n",
        "Y = dataset[:,60]"
      ],
      "execution_count": 0,
      "outputs": []
    },
    {
      "metadata": {
        "id": "sK_uLjkyIIyW",
        "colab_type": "code",
        "colab": {
          "base_uri": "https://localhost:8080/",
          "height": 34
        },
        "outputId": "a72f08b7-fa2e-4a02-8e1e-1dfb2668414c"
      },
      "cell_type": "code",
      "source": [
        "X.shape"
      ],
      "execution_count": 0,
      "outputs": [
        {
          "output_type": "execute_result",
          "data": {
            "text/plain": [
              "(208, 60)"
            ]
          },
          "metadata": {
            "tags": []
          },
          "execution_count": 10
        }
      ]
    },
    {
      "metadata": {
        "id": "mUTs7fW2IZp2",
        "colab_type": "code",
        "colab": {
          "base_uri": "https://localhost:8080/",
          "height": 34
        },
        "outputId": "04a60abc-ab80-49a6-8693-e00e00fb9f15"
      },
      "cell_type": "code",
      "source": [
        "Y.shape"
      ],
      "execution_count": 0,
      "outputs": [
        {
          "output_type": "execute_result",
          "data": {
            "text/plain": [
              "(208,)"
            ]
          },
          "metadata": {
            "tags": []
          },
          "execution_count": 11
        }
      ]
    },
    {
      "metadata": {
        "id": "T7ybB1falemy",
        "colab_type": "code",
        "colab": {
          "base_uri": "https://localhost:8080/",
          "height": 187
        },
        "outputId": "96b42dec-9e86-4b27-e6a0-da654d07e6d3"
      },
      "cell_type": "code",
      "source": [
        "# encode class values as integers\n",
        "encoder = LabelEncoder()\n",
        "encoder.fit(Y)\n",
        "encoded_Y = encoder.transform(Y)\n",
        "encoded_Y"
      ],
      "execution_count": 0,
      "outputs": [
        {
          "output_type": "execute_result",
          "data": {
            "text/plain": [
              "array([1, 1, 1, 1, 1, 1, 1, 1, 1, 1, 1, 1, 1, 1, 1, 1, 1, 1, 1, 1, 1, 1,\n",
              "       1, 1, 1, 1, 1, 1, 1, 1, 1, 1, 1, 1, 1, 1, 1, 1, 1, 1, 1, 1, 1, 1,\n",
              "       1, 1, 1, 1, 1, 1, 1, 1, 1, 1, 1, 1, 1, 1, 1, 1, 1, 1, 1, 1, 1, 1,\n",
              "       1, 1, 1, 1, 1, 1, 1, 1, 1, 1, 1, 1, 1, 1, 1, 1, 1, 1, 1, 1, 1, 1,\n",
              "       1, 1, 1, 1, 1, 1, 1, 1, 1, 0, 0, 0, 0, 0, 0, 0, 0, 0, 0, 0, 0, 0,\n",
              "       0, 0, 0, 0, 0, 0, 0, 0, 0, 0, 0, 0, 0, 0, 0, 0, 0, 0, 0, 0, 0, 0,\n",
              "       0, 0, 0, 0, 0, 0, 0, 0, 0, 0, 0, 0, 0, 0, 0, 0, 0, 0, 0, 0, 0, 0,\n",
              "       0, 0, 0, 0, 0, 0, 0, 0, 0, 0, 0, 0, 0, 0, 0, 0, 0, 0, 0, 0, 0, 0,\n",
              "       0, 0, 0, 0, 0, 0, 0, 0, 0, 0, 0, 0, 0, 0, 0, 0, 0, 0, 0, 0, 0, 0,\n",
              "       0, 0, 0, 0, 0, 0, 0, 0, 0, 0])"
            ]
          },
          "metadata": {
            "tags": []
          },
          "execution_count": 12
        }
      ]
    },
    {
      "metadata": {
        "id": "7l9jJA10qPt1",
        "colab_type": "code",
        "colab": {}
      },
      "cell_type": "code",
      "source": [
        "X_train, X_test, y_train, y_test = train_test_split(X, encoded_Y, test_size=0.33, random_state=seed)"
      ],
      "execution_count": 0,
      "outputs": []
    },
    {
      "metadata": {
        "id": "dGPndJVIo8Kp",
        "colab_type": "code",
        "colab": {
          "base_uri": "https://localhost:8080/",
          "height": 238
        },
        "outputId": "5adae972-c1c5-4213-96f5-71c8e0e8d4ff"
      },
      "cell_type": "code",
      "source": [
        "model = Sequential()\n",
        "model.add(Dense(60, input_dim=60, kernel_initializer='normal', activation='relu'))\n",
        "model.add(Dense(30, kernel_initializer='normal', activation='relu'))\n",
        "model.add(Dense(1, kernel_initializer='normal', activation='sigmoid'))\n",
        "# Compile model\n",
        "model.compile(loss='binary_crossentropy', \n",
        "              optimizer='sgd', \n",
        "              metrics=['accuracy'])\n",
        "model.summary()"
      ],
      "execution_count": 0,
      "outputs": [
        {
          "output_type": "stream",
          "text": [
            "_________________________________________________________________\n",
            "Layer (type)                 Output Shape              Param #   \n",
            "=================================================================\n",
            "dense_1 (Dense)              (None, 60)                3660      \n",
            "_________________________________________________________________\n",
            "dense_2 (Dense)              (None, 30)                1830      \n",
            "_________________________________________________________________\n",
            "dense_3 (Dense)              (None, 1)                 31        \n",
            "=================================================================\n",
            "Total params: 5,521\n",
            "Trainable params: 5,521\n",
            "Non-trainable params: 0\n",
            "_________________________________________________________________\n"
          ],
          "name": "stdout"
        }
      ]
    },
    {
      "metadata": {
        "id": "1JyItHwMp1ri",
        "colab_type": "code",
        "colab": {
          "base_uri": "https://localhost:8080/",
          "height": 34
        },
        "outputId": "9ba01791-1ede-41ad-e3ca-7e7d7ecafb21"
      },
      "cell_type": "code",
      "source": [
        "epochs = 500\n",
        "batch_size = 5\n",
        "model.fit(X_train, y_train,\n",
        "          batch_size=batch_size,\n",
        "          epochs=epochs,\n",
        "          verbose=0\n",
        "          )"
      ],
      "execution_count": 0,
      "outputs": [
        {
          "output_type": "execute_result",
          "data": {
            "text/plain": [
              "<keras.callbacks.History at 0x7f96ed431150>"
            ]
          },
          "metadata": {
            "tags": []
          },
          "execution_count": 15
        }
      ]
    },
    {
      "metadata": {
        "id": "_CyRfSEErJfH",
        "colab_type": "code",
        "colab": {
          "base_uri": "https://localhost:8080/",
          "height": 68
        },
        "outputId": "aa7fb69b-c99b-4037-9aaf-0483c5b3fa49"
      },
      "cell_type": "code",
      "source": [
        "test_loss, test_acc = model.evaluate(X_test, y_test)\n",
        "\n",
        "print('Test loss:', test_loss)\n",
        "print('Test accuracy:', test_acc)"
      ],
      "execution_count": 0,
      "outputs": [
        {
          "output_type": "stream",
          "text": [
            "69/69 [==============================] - 0s 479us/step\n",
            "('Test loss:', 0.849136699800906)\n",
            "('Test accuracy:', 0.7826086965160094)\n"
          ],
          "name": "stdout"
        }
      ]
    },
    {
      "metadata": {
        "id": "7Ne2J3y8r8Dt",
        "colab_type": "code",
        "colab": {}
      },
      "cell_type": "code",
      "source": [
        "predictions = model.predict(X_test)\n",
        "#predictions"
      ],
      "execution_count": 0,
      "outputs": []
    },
    {
      "metadata": {
        "id": "4OTKz-EHs4d9",
        "colab_type": "code",
        "colab": {
          "base_uri": "https://localhost:8080/",
          "height": 51
        },
        "outputId": "4d4c5f6e-0737-4ce1-c143-1238766814f0"
      },
      "cell_type": "code",
      "source": [
        "from collections import Counter\n",
        "from sklearn.metrics import confusion_matrix\n",
        "import itertools\n",
        "import numpy as np\n",
        "\n",
        "# Predict the values from the validation dataset\n",
        "Y_pred = model.predict(X_test)\n",
        "Y_pred\n",
        "\n",
        "Y_pred  = Y_pred > 0.5  \n",
        "Y_pred = Y_pred.astype(int) \n",
        "Y_pred\n",
        "\n",
        "# Convert predictions classes to one hot vectors \n",
        "#Y_pred_classes = np.argmax(Y_pred) \n",
        "# Convert validation observations to one hot vectors\n",
        "#Y_true = np.argmax(y_test, axis = 1) \n",
        "# compute the confusion matrix\n",
        "confusion_mtx = confusion_matrix(y_test, Y_pred) \n",
        "confusion_mtx"
      ],
      "execution_count": 0,
      "outputs": [
        {
          "output_type": "execute_result",
          "data": {
            "text/plain": [
              "array([[33,  9],\n",
              "       [ 6, 21]])"
            ]
          },
          "metadata": {
            "tags": []
          },
          "execution_count": 18
        }
      ]
    },
    {
      "metadata": {
        "id": "znbTRw7ftRMQ",
        "colab_type": "code",
        "colab": {}
      },
      "cell_type": "code",
      "source": [
        "import matplotlib.pyplot as plt\n",
        "def plot_confusion_matrix(cm, classes,\n",
        "                          normalize=False,\n",
        "                          title='Confusion matrix',\n",
        "                          cmap=plt.cm.Blues):\n",
        "    \"\"\"\n",
        "    This function prints and plots the confusion matrix.\n",
        "    Normalization can be applied by setting `normalize=True`.\n",
        "    \"\"\"\n",
        "    plt.imshow(cm, interpolation='nearest', cmap=cmap)\n",
        "    plt.title(title)\n",
        "    plt.colorbar()\n",
        "    tick_marks = np.arange(len(classes))\n",
        "    plt.xticks(tick_marks, classes, rotation=45)\n",
        "    plt.yticks(tick_marks, classes)\n",
        "\n",
        "    if normalize:\n",
        "        cm = cm.astype('float') / cm.sum(axis=1)[:, np.newaxis]\n",
        "\n",
        "    thresh = cm.max() / 2.\n",
        "    for i, j in itertools.product(range(cm.shape[0]), range(cm.shape[1])):\n",
        "        plt.text(j, i, cm[i, j],\n",
        "                 horizontalalignment=\"center\",\n",
        "                 color=\"white\" if cm[i, j] > thresh else \"black\")\n",
        "\n",
        "    plt.tight_layout()\n",
        "    plt.ylabel('Observacion')\n",
        "    plt.xlabel('Prediccion')"
      ],
      "execution_count": 0,
      "outputs": []
    },
    {
      "metadata": {
        "id": "FAbPwnqZvVSB",
        "colab_type": "code",
        "colab": {
          "base_uri": "https://localhost:8080/",
          "height": 415
        },
        "outputId": "b77a7287-9c2c-4837-b1c0-67f8f0274d42"
      },
      "cell_type": "code",
      "source": [
        "plot_confusion_matrix(confusion_mtx, classes = range(2))\n"
      ],
      "execution_count": 0,
      "outputs": [
        {
          "output_type": "display_data",
          "data": {
            "image/png": "[encoded data removed]",
            "text/plain": [
              "<matplotlib.figure.Figure at 0x7f96e14f6f50>"
            ]
          },
          "metadata": {
            "tags": []
          }
        }
      ]
    },
    {
      "metadata": {
        "id": "aStFp5vOvdrV",
        "colab_type": "code",
        "colab": {}
      },
      "cell_type": "code",
      "source": [
        "from keras.layers import Conv1D, BatchNormalization, Dense, Dropout, Flatten, MaxPooling1D\n",
        "\n",
        "model2 = Sequential()\n",
        "model2.add(Conv1D(32, 4, input_shape=(60,1), activation='relu', name='conv1'))\n",
        "model2.add(BatchNormalization())\n",
        "model2.add(Dropout(0.5))\n",
        "model2.add(Flatten())\n",
        "model2.add(Dense(30, activation='relu', name='fc1'))\n",
        "model2.add(BatchNormalization())\n",
        "model2.add(Dropout(0.5))\n",
        "model2.add(Dense(1, activation='sigmoid', name='prediction'))"
      ],
      "execution_count": 0,
      "outputs": []
    },
    {
      "metadata": {
        "id": "vZx_Eh4WOLgl",
        "colab_type": "code",
        "colab": {
          "base_uri": "https://localhost:8080/",
          "height": 408
        },
        "outputId": "6950a705-7d6c-4624-dfa0-821df060a987"
      },
      "cell_type": "code",
      "source": [
        "# Compile model\n",
        "#model2.compile(loss='binary_crossentropy', \n",
        "#              optimizer='sgd', \n",
        "#              metrics=['accuracy'])\n",
        "\n",
        "from keras.optimizers import Adam\n",
        "\n",
        "lr = 1e-4\n",
        "epochs = 500\n",
        "model2.compile(Adam(lr),\n",
        "              loss='binary_crossentropy',\n",
        "              metrics=['accuracy'])\n",
        "model2.summary()"
      ],
      "execution_count": 0,
      "outputs": [
        {
          "output_type": "stream",
          "text": [
            "_________________________________________________________________\n",
            "Layer (type)                 Output Shape              Param #   \n",
            "=================================================================\n",
            "conv1 (Conv1D)               (None, 57, 32)            160       \n",
            "_________________________________________________________________\n",
            "batch_normalization_1 (Batch (None, 57, 32)            128       \n",
            "_________________________________________________________________\n",
            "dropout_1 (Dropout)          (None, 57, 32)            0         \n",
            "_________________________________________________________________\n",
            "flatten_1 (Flatten)          (None, 1824)              0         \n",
            "_________________________________________________________________\n",
            "fc1 (Dense)                  (None, 30)                54750     \n",
            "_________________________________________________________________\n",
            "batch_normalization_2 (Batch (None, 30)                120       \n",
            "_________________________________________________________________\n",
            "dropout_2 (Dropout)          (None, 30)                0         \n",
            "_________________________________________________________________\n",
            "prediction (Dense)           (None, 1)                 31        \n",
            "=================================================================\n",
            "Total params: 55,189\n",
            "Trainable params: 55,065\n",
            "Non-trainable params: 124\n",
            "_________________________________________________________________\n"
          ],
          "name": "stdout"
        }
      ]
    },
    {
      "metadata": {
        "id": "yOJ0WiHvQ3bc",
        "colab_type": "code",
        "colab": {
          "base_uri": "https://localhost:8080/",
          "height": 136
        },
        "outputId": "2897d873-47f0-4f7f-e0a8-f4215031d814"
      },
      "cell_type": "code",
      "source": [
        "X_train"
      ],
      "execution_count": 0,
      "outputs": [
        {
          "output_type": "execute_result",
          "data": {
            "text/plain": [
              "array([[0.034 , 0.0625, 0.0381, ..., 0.0051, 0.0033, 0.0058],\n",
              "       [0.0094, 0.0166, 0.0398, ..., 0.0087, 0.0077, 0.0122],\n",
              "       [0.0423, 0.0321, 0.0709, ..., 0.0021, 0.0043, 0.0017],\n",
              "       ...,\n",
              "       [0.0108, 0.0086, 0.0058, ..., 0.0023, 0.0026, 0.0027],\n",
              "       [0.0283, 0.0599, 0.0656, ..., 0.0033, 0.0045, 0.0079],\n",
              "       [0.0093, 0.0185, 0.0056, ..., 0.005 , 0.0058, 0.0025]])"
            ]
          },
          "metadata": {
            "tags": []
          },
          "execution_count": 23
        }
      ]
    },
    {
      "metadata": {
        "id": "hHOeFZFRn56e",
        "colab_type": "code",
        "colab": {}
      },
      "cell_type": "code",
      "source": [
        ""
      ],
      "execution_count": 0,
      "outputs": []
    },
    {
      "metadata": {
        "id": "YRLQb-UAQmY3",
        "colab_type": "code",
        "colab": {
          "base_uri": "https://localhost:8080/",
          "height": 850
        },
        "outputId": "91693c5e-6101-4557-acd7-545f56a39ac9"
      },
      "cell_type": "code",
      "source": [
        "trn_data = np.expand_dims(X_train, axis=2)\n",
        "trn_data"
      ],
      "execution_count": 0,
      "outputs": [
        {
          "output_type": "execute_result",
          "data": {
            "text/plain": [
              "array([[[0.034 ],\n",
              "        [0.0625],\n",
              "        [0.0381],\n",
              "        ...,\n",
              "        [0.0051],\n",
              "        [0.0033],\n",
              "        [0.0058]],\n",
              "\n",
              "       [[0.0094],\n",
              "        [0.0166],\n",
              "        [0.0398],\n",
              "        ...,\n",
              "        [0.0087],\n",
              "        [0.0077],\n",
              "        [0.0122]],\n",
              "\n",
              "       [[0.0423],\n",
              "        [0.0321],\n",
              "        [0.0709],\n",
              "        ...,\n",
              "        [0.0021],\n",
              "        [0.0043],\n",
              "        [0.0017]],\n",
              "\n",
              "       ...,\n",
              "\n",
              "       [[0.0108],\n",
              "        [0.0086],\n",
              "        [0.0058],\n",
              "        ...,\n",
              "        [0.0023],\n",
              "        [0.0026],\n",
              "        [0.0027]],\n",
              "\n",
              "       [[0.0283],\n",
              "        [0.0599],\n",
              "        [0.0656],\n",
              "        ...,\n",
              "        [0.0033],\n",
              "        [0.0045],\n",
              "        [0.0079]],\n",
              "\n",
              "       [[0.0093],\n",
              "        [0.0185],\n",
              "        [0.0056],\n",
              "        ...,\n",
              "        [0.005 ],\n",
              "        [0.0058],\n",
              "        [0.0025]]])"
            ]
          },
          "metadata": {
            "tags": []
          },
          "execution_count": 24
        }
      ]
    },
    {
      "metadata": {
        "id": "UFhREI45REDX",
        "colab_type": "code",
        "colab": {
          "base_uri": "https://localhost:8080/",
          "height": 850
        },
        "outputId": "df51dc99-e60c-46c3-bc26-2ed0538cfd86"
      },
      "cell_type": "code",
      "source": [
        "val_data = np.expand_dims(X_test, axis=2)\n",
        "val_data"
      ],
      "execution_count": 0,
      "outputs": [
        {
          "output_type": "execute_result",
          "data": {
            "text/plain": [
              "array([[[0.1021],\n",
              "        [0.083 ],\n",
              "        [0.0577],\n",
              "        ...,\n",
              "        [0.0214],\n",
              "        [0.0227],\n",
              "        [0.0106]],\n",
              "\n",
              "       [[0.0331],\n",
              "        [0.0423],\n",
              "        [0.0474],\n",
              "        ...,\n",
              "        [0.0044],\n",
              "        [0.0134],\n",
              "        [0.0092]],\n",
              "\n",
              "       [[0.0197],\n",
              "        [0.0394],\n",
              "        [0.0384],\n",
              "        ...,\n",
              "        [0.0045],\n",
              "        [0.0047],\n",
              "        [0.0054]],\n",
              "\n",
              "       ...,\n",
              "\n",
              "       [[0.0363],\n",
              "        [0.0478],\n",
              "        [0.0298],\n",
              "        ...,\n",
              "        [0.0114],\n",
              "        [0.0073],\n",
              "        [0.0033]],\n",
              "\n",
              "       [[0.026 ],\n",
              "        [0.0363],\n",
              "        [0.0136],\n",
              "        ...,\n",
              "        [0.0036],\n",
              "        [0.0061],\n",
              "        [0.0115]],\n",
              "\n",
              "       [[0.0109],\n",
              "        [0.0093],\n",
              "        [0.0121],\n",
              "        ...,\n",
              "        [0.0056],\n",
              "        [0.0055],\n",
              "        [0.0039]]])"
            ]
          },
          "metadata": {
            "tags": []
          },
          "execution_count": 25
        }
      ]
    },
    {
      "metadata": {
        "id": "-qcgTGJOpsfZ",
        "colab_type": "code",
        "colab": {}
      },
      "cell_type": "code",
      "source": [
        ""
      ],
      "execution_count": 0,
      "outputs": []
    },
    {
      "metadata": {
        "id": "5aK3ORXXQGfQ",
        "colab_type": "code",
        "colab": {
          "base_uri": "https://localhost:8080/",
          "height": 34
        },
        "outputId": "d39b42ee-05da-4056-d81a-5f699a146ed5"
      },
      "cell_type": "code",
      "source": [
        "epochs = 500\n",
        "batch_size = 5\n",
        "model2.fit(trn_data, y_train,\n",
        "          batch_size=batch_size,\n",
        "          epochs=epochs,\n",
        "          verbose=0\n",
        "          )"
      ],
      "execution_count": 0,
      "outputs": [
        {
          "output_type": "execute_result",
          "data": {
            "text/plain": [
              "<keras.callbacks.History at 0x7f96ed431c50>"
            ]
          },
          "metadata": {
            "tags": []
          },
          "execution_count": 29
        }
      ]
    },
    {
      "metadata": {
        "id": "ibIR87bSQZJj",
        "colab_type": "code",
        "colab": {
          "base_uri": "https://localhost:8080/",
          "height": 68
        },
        "outputId": "ae4e2887-8b6b-4cc2-b664-75a98de10d4d"
      },
      "cell_type": "code",
      "source": [
        "test_loss, test_acc = model2.evaluate(val_data, y_test)\n",
        "\n",
        "print('Test loss:', test_loss)\n",
        "print('Test accuracy:', test_acc)"
      ],
      "execution_count": 0,
      "outputs": [
        {
          "output_type": "stream",
          "text": [
            "69/69 [==============================] - 0s 1ms/step\n",
            "('Test loss:', 0.3901233016580775)\n",
            "('Test accuracy:', 0.8115942037623861)\n"
          ],
          "name": "stdout"
        }
      ]
    },
    {
      "metadata": {
        "id": "5AaAP_XARoX1",
        "colab_type": "code",
        "colab": {
          "base_uri": "https://localhost:8080/",
          "height": 51
        },
        "outputId": "9e75c17f-52c5-4dcc-f40f-b6c4c5709f5f"
      },
      "cell_type": "code",
      "source": [
        "Y_pred = model2.predict(val_data)\n",
        "Y_pred\n",
        "\n",
        "Y_pred  = Y_pred > 0.5  \n",
        "Y_pred = Y_pred.astype(int) \n",
        "Y_pred\n",
        "\n",
        "# Convert predictions classes to one hot vectors \n",
        "#Y_pred_classes = np.argmax(Y_pred) \n",
        "# Convert validation observations to one hot vectors\n",
        "#Y_true = np.argmax(y_test, axis = 1) \n",
        "# compute the confusion matrix\n",
        "confusion_mtx = confusion_matrix(y_test, Y_pred) \n",
        "confusion_mtx"
      ],
      "execution_count": 0,
      "outputs": [
        {
          "output_type": "execute_result",
          "data": {
            "text/plain": [
              "array([[33,  9],\n",
              "       [ 4, 23]])"
            ]
          },
          "metadata": {
            "tags": []
          },
          "execution_count": 31
        }
      ]
    },
    {
      "metadata": {
        "id": "t51_rMgLR8lG",
        "colab_type": "code",
        "colab": {
          "base_uri": "https://localhost:8080/",
          "height": 415
        },
        "outputId": "38eb03a4-f6ca-47ed-df3c-ffbeb8fe9f21"
      },
      "cell_type": "code",
      "source": [
        "plot_confusion_matrix(confusion_mtx, classes = range(2))"
      ],
      "execution_count": 0,
      "outputs": [
        {
          "output_type": "display_data",
          "data": {
            "image/png": "[encoded data removed]",
            "text/plain": [
              "<matplotlib.figure.Figure at 0x7f96debbdc90>"
            ]
          },
          "metadata": {
            "tags": []
          }
        }
      ]
    },
    {
      "metadata": {
        "id": "LpprzzjhqX64",
        "colab_type": "code",
        "colab": {}
      },
      "cell_type": "code",
      "source": [
        ""
      ],
      "execution_count": 0,
      "outputs": []
    }
  ]
}