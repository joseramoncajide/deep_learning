{
  "nbformat": 4,
  "nbformat_minor": 0,
  "metadata": {
    "colab": {
      "name": "deep_learning_logistic_regression.ipynb",
      "version": "0.3.2",
      "provenance": []
    },
    "kernelspec": {
      "name": "python3",
      "display_name": "Python 3"
    },
    "accelerator": "GPU"
  },
  "cells": [
    {
      "metadata": {
        "id": "X1ljR__8pF8v",
        "colab_type": "code",
        "colab": {}
      },
      "cell_type": "code",
      "source": [
        "import tensorflow as tf\n",
        "import pandas as pd\n",
        "import numpy as np\n",
        "import time\n",
        "from sklearn.datasets import load_iris\n",
        "from sklearn.model_selection import train_test_split\n",
        "import matplotlib.pyplot as plt"
      ],
      "execution_count": 0,
      "outputs": []
    },
    {
      "metadata": {
        "id": "YJhWIwtHz78f",
        "colab_type": "text"
      },
      "cell_type": "markdown",
      "source": [
        "https://www.kaggle.com/akashsri99/deep-learning-iris-dataset-keras"
      ]
    },
    {
      "metadata": {
        "id": "WCQf-UCfpKD5",
        "colab_type": "code",
        "colab": {}
      },
      "cell_type": "code",
      "source": [
        "iris = load_iris()\n",
        "iris_X, iris_y = iris.data[:-1,:], iris.target[:-1]\n",
        "# Para deep\n",
        "#iris_y= pd.get_dummies(iris_y).values\n",
        "trainX, testX, trainY, testY = train_test_split(iris_X, iris_y, test_size=0.33, random_state=42)"
      ],
      "execution_count": 0,
      "outputs": []
    },
    {
      "metadata": {
        "id": "61_Sgwugy_m1",
        "colab_type": "code",
        "colab": {}
      },
      "cell_type": "code",
      "source": [
        "import seaborn as sns\n",
        "sns.set(style=\"ticks\")\n",
        "sns.set_palette(\"husl\")\n",
        "#sns.pairplot(iris_X[:,1:6],hue=\"Species\")"
      ],
      "execution_count": 0,
      "outputs": []
    },
    {
      "metadata": {
        "id": "mN9Qql9TzG7C",
        "colab_type": "code",
        "colab": {}
      },
      "cell_type": "code",
      "source": [
        "# iris_X[:,1:6]"
      ],
      "execution_count": 0,
      "outputs": []
    },
    {
      "metadata": {
        "id": "C5IeVEg7pOY6",
        "colab_type": "code",
        "colab": {
          "base_uri": "https://localhost:8080/",
          "height": 34
        },
        "outputId": "7eb96543-3523-4979-9bb8-58f2468ab78a"
      },
      "cell_type": "code",
      "source": [
        "from sklearn.linear_model import LogisticRegressionCV\n",
        "from keras.models import Sequential\n",
        "from keras.layers.core import Dense, Activation\n",
        "from keras.utils import np_utils\n"
      ],
      "execution_count": 5,
      "outputs": [
        {
          "output_type": "stream",
          "text": [
            "Using TensorFlow backend.\n"
          ],
          "name": "stderr"
        }
      ]
    },
    {
      "metadata": {
        "id": "am0VPTd7p8CC",
        "colab_type": "code",
        "colab": {
          "base_uri": "https://localhost:8080/",
          "height": 102
        },
        "outputId": "d19467b6-6f5b-4c0f-bf0b-a3a3cdd0c90e"
      },
      "cell_type": "code",
      "source": [
        "trainY"
      ],
      "execution_count": 6,
      "outputs": [
        {
          "output_type": "execute_result",
          "data": {
            "text/plain": [
              "array([1, 2, 1, 0, 2, 1, 0, 0, 0, 1, 2, 0, 0, 0, 1, 0, 1, 2, 0, 1, 2, 0,\n",
              "       1, 2, 1, 1, 2, 1, 0, 2, 2, 0, 0, 1, 1, 0, 2, 0, 0, 1, 1, 1, 2, 2,\n",
              "       1, 0, 0, 2, 2, 0, 0, 0, 1, 2, 0, 2, 2, 0, 1, 1, 2, 1, 2, 0, 2, 1,\n",
              "       2, 1, 1, 1, 0, 1, 1, 0, 1, 2, 2, 0, 1, 2, 2, 0, 2, 0, 1, 2, 2, 1,\n",
              "       2, 1, 1, 2, 2, 0, 1, 2, 0, 1, 2])"
            ]
          },
          "metadata": {
            "tags": []
          },
          "execution_count": 6
        }
      ]
    },
    {
      "metadata": {
        "id": "iEoj8kL-DRu4",
        "colab_type": "code",
        "colab": {
          "base_uri": "https://localhost:8080/",
          "height": 102
        },
        "outputId": "1658dc63-4cd7-4d48-ac79-1e0c51d4f62f"
      },
      "cell_type": "code",
      "source": [
        "np.array(trainY)"
      ],
      "execution_count": 7,
      "outputs": [
        {
          "output_type": "execute_result",
          "data": {
            "text/plain": [
              "array([1, 2, 1, 0, 2, 1, 0, 0, 0, 1, 2, 0, 0, 0, 1, 0, 1, 2, 0, 1, 2, 0,\n",
              "       1, 2, 1, 1, 2, 1, 0, 2, 2, 0, 0, 1, 1, 0, 2, 0, 0, 1, 1, 1, 2, 2,\n",
              "       1, 0, 0, 2, 2, 0, 0, 0, 1, 2, 0, 2, 2, 0, 1, 1, 2, 1, 2, 0, 2, 1,\n",
              "       2, 1, 1, 1, 0, 1, 1, 0, 1, 2, 2, 0, 1, 2, 2, 0, 2, 0, 1, 2, 2, 1,\n",
              "       2, 1, 1, 2, 2, 0, 1, 2, 0, 1, 2])"
            ]
          },
          "metadata": {
            "tags": []
          },
          "execution_count": 7
        }
      ]
    },
    {
      "metadata": {
        "id": "rnSOrZkZpfc5",
        "colab_type": "text"
      },
      "cell_type": "markdown",
      "source": [
        "# Prepare data\n",
        "iris = sns.load_dataset(\"iris\")\n",
        "X = iris.values[:, 0:4]\n",
        "y = iris.values[:, 4]\n",
        "\n",
        "# Make test and train set\n",
        "train_X, test_X, train_y, test_y = train_test_split(X, y, train_size=0.5, random_state=0)"
      ]
    },
    {
      "metadata": {
        "id": "pQoSPaJ2pgVi",
        "colab_type": "code",
        "colab": {
          "base_uri": "https://localhost:8080/",
          "height": 34
        },
        "outputId": "91c4b3c5-eb30-427f-9d1d-e2d7e89d23c2"
      },
      "cell_type": "code",
      "source": [
        "from sklearn.linear_model import LogisticRegressionCV\n",
        "lr = LogisticRegressionCV()\n",
        "lr.fit(trainX, trainY)\n",
        "pred_y = lr.predict(testX)\n",
        "print(\"Test fraction correct (LR-Accuracy) = {:.2f}\".format(lr.score(testX, testY)))"
      ],
      "execution_count": 8,
      "outputs": [
        {
          "output_type": "stream",
          "text": [
            "Test fraction correct (LR-Accuracy) = 0.98\n"
          ],
          "name": "stdout"
        }
      ]
    },
    {
      "metadata": {
        "id": "jqpSsgQJwgy3",
        "colab_type": "code",
        "colab": {
          "base_uri": "https://localhost:8080/",
          "height": 68
        },
        "outputId": "1bc7402b-41c0-4e60-9c31-3961e6c99c82"
      },
      "cell_type": "code",
      "source": [
        "from sklearn.metrics import confusion_matrix\n",
        "confusion_matrix = confusion_matrix(testY, pred_y)\n",
        "print(confusion_matrix)"
      ],
      "execution_count": 9,
      "outputs": [
        {
          "output_type": "stream",
          "text": [
            "[[19  0  0]\n",
            " [ 1 14  0]\n",
            " [ 0  0 16]]\n"
          ],
          "name": "stdout"
        }
      ]
    },
    {
      "metadata": {
        "id": "4t0euCNW-G6L",
        "colab_type": "text"
      },
      "cell_type": "markdown",
      "source": [
        "## Deep"
      ]
    },
    {
      "metadata": {
        "id": "4OTDmGK9pubD",
        "colab_type": "code",
        "colab": {}
      },
      "cell_type": "code",
      "source": [
        "# Si ahcemos esto: loss='categorical_crossentropy'\n",
        "trainY = pd.get_dummies(trainY).values\n",
        "testY = pd.get_dummies(testY).values"
      ],
      "execution_count": 0,
      "outputs": []
    },
    {
      "metadata": {
        "id": "QcN2aM3bDKus",
        "colab_type": "code",
        "colab": {}
      },
      "cell_type": "code",
      "source": [
        "#from sklearn.preprocessing import LabelEncoder\n",
        "#encoder =  LabelEncoder()\n",
        "#y1 = encoder.fit_transform(trainY)\n",
        "\n",
        "#Y = pd.get_dummies(y1).values"
      ],
      "execution_count": 0,
      "outputs": []
    },
    {
      "metadata": {
        "id": "rAbQP-wytQYc",
        "colab_type": "code",
        "colab": {}
      },
      "cell_type": "code",
      "source": [
        "# trainX"
      ],
      "execution_count": 0,
      "outputs": []
    },
    {
      "metadata": {
        "id": "aYGSV99LqaGN",
        "colab_type": "code",
        "colab": {}
      },
      "cell_type": "code",
      "source": [
        "model = Sequential()\n",
        "model.add(Dense(16, input_shape=(4,)))\n",
        "model.add(Activation('sigmoid'))\n",
        "model.add(Dense(3))\n",
        "model.add(Activation('softmax'))\n",
        "model.compile(loss='categorical_crossentropy', metrics=['accuracy'], optimizer='adam')"
      ],
      "execution_count": 0,
      "outputs": []
    },
    {
      "metadata": {
        "id": "1riHKgP82ReX",
        "colab_type": "code",
        "colab": {}
      },
      "cell_type": "code",
      "source": [
        "batch_size = 16\n",
        "\n",
        "from keras.callbacks import TensorBoard\n",
        "tbCallBack = TensorBoard(log_dir='./log', histogram_freq=1,\n",
        "                         write_graph=True,\n",
        "                         write_grads=True,\n",
        "                         batch_size=batch_size,\n",
        "                         write_images=True)"
      ],
      "execution_count": 0,
      "outputs": []
    },
    {
      "metadata": {
        "id": "QfWtmdO1-Ua4",
        "colab_type": "code",
        "colab": {}
      },
      "cell_type": "code",
      "source": [
        "#!wget https://bin.equinox.io/c/4VmDzA7iaHb/ngrok-stable-linux-amd64.zip\n",
        "#!unzip ngrok-stable-linux-amd64.zip"
      ],
      "execution_count": 0,
      "outputs": []
    },
    {
      "metadata": {
        "id": "Yri0JEXk-Z4_",
        "colab_type": "code",
        "colab": {}
      },
      "cell_type": "code",
      "source": [
        "LOG_DIR = './log'\n",
        "get_ipython().system_raw(\n",
        "    'tensorboard --logdir {} --host 0.0.0.0 --port 6006 &'\n",
        "    .format(LOG_DIR)\n",
        ")"
      ],
      "execution_count": 0,
      "outputs": []
    },
    {
      "metadata": {
        "id": "z1-ApzSJ-dNi",
        "colab_type": "code",
        "colab": {}
      },
      "cell_type": "code",
      "source": [
        "get_ipython().system_raw('./ngrok http 6006 &')"
      ],
      "execution_count": 0,
      "outputs": []
    },
    {
      "metadata": {
        "id": "W2N7LKfx-g6x",
        "colab_type": "code",
        "colab": {
          "base_uri": "https://localhost:8080/",
          "height": 204
        },
        "outputId": "cdab6744-f567-447d-ff7e-1d4575a4fe3a"
      },
      "cell_type": "code",
      "source": [
        "! curl -s http://localhost:4040/api/tunnels | python3 -c \\\n",
        "    \"import sys, json; print(json.load(sys.stdin)['tunnels'][0]['public_url'])\""
      ],
      "execution_count": 37,
      "outputs": [
        {
          "output_type": "stream",
          "text": [
            "Traceback (most recent call last):\r\n",
            "  File \"<string>\", line 1, in <module>\r\n",
            "  File \"/usr/lib/python3.6/json/__init__.py\", line 299, in load\r\n",
            "    parse_constant=parse_constant, object_pairs_hook=object_pairs_hook, **kw)\r\n",
            "  File \"/usr/lib/python3.6/json/__init__.py\", line 354, in loads\r\n",
            "    return _default_decoder.decode(s)\r\n",
            "  File \"/usr/lib/python3.6/json/decoder.py\", line 339, in decode\r\n",
            "    obj, end = self.raw_decode(s, idx=_w(s, 0).end())\r\n",
            "  File \"/usr/lib/python3.6/json/decoder.py\", line 357, in raw_decode\r\n",
            "    raise JSONDecodeError(\"Expecting value\", s, err.value) from None\r\n",
            "json.decoder.JSONDecodeError: Expecting value: line 1 column 1 (char 0)\r\n"
          ],
          "name": "stdout"
        }
      ]
    },
    {
      "metadata": {
        "id": "FRALoLqtq21P",
        "colab_type": "code",
        "colab": {
          "base_uri": "https://localhost:8080/",
          "height": 85
        },
        "outputId": "6f8ecc15-7a30-429a-a68c-83df320f2d4a"
      },
      "cell_type": "code",
      "source": [
        "model.fit(trainX, trainY, verbose=1, batch_size=1)\n",
        "score, accuracy = model.evaluate(testX, testY, batch_size=16, verbose=0)\n",
        "print(\"Test fraction correct (NN-Score) = {:.2f}\".format(score))\n",
        "print(\"Test fraction correct (NN-Accuracy) = {:.2f}\".format(accuracy))"
      ],
      "execution_count": 16,
      "outputs": [
        {
          "output_type": "stream",
          "text": [
            "Epoch 1/1\n",
            "99/99 [==============================] - 2s 16ms/step - loss: 1.1079 - acc: 0.3535\n",
            "Test fraction correct (NN-Score) = 1.08\n",
            "Test fraction correct (NN-Accuracy) = 0.34\n"
          ],
          "name": "stdout"
        }
      ]
    },
    {
      "metadata": {
        "id": "BOy-_Yu999KS",
        "colab_type": "text"
      },
      "cell_type": "markdown",
      "source": [
        "### Comparación frente a un clasificador aleatorio"
      ]
    },
    {
      "metadata": {
        "id": "thLdsWub7QCJ",
        "colab_type": "code",
        "colab": {
          "base_uri": "https://localhost:8080/",
          "height": 34
        },
        "outputId": "a4b929c4-bf98-49a4-e484-77309bb67e6a"
      },
      "cell_type": "code",
      "source": [
        "from sklearn.dummy import DummyClassifier\n",
        "dummy_classifier = DummyClassifier(strategy='uniform', random_state=1)\n",
        "dummy_classifier.fit(trainX, trainY )"
      ],
      "execution_count": 19,
      "outputs": [
        {
          "output_type": "execute_result",
          "data": {
            "text/plain": [
              "DummyClassifier(constant=None, random_state=1, strategy='uniform')"
            ]
          },
          "metadata": {
            "tags": []
          },
          "execution_count": 19
        }
      ]
    },
    {
      "metadata": {
        "id": "FzNBW5Mh9gtl",
        "colab_type": "code",
        "colab": {
          "base_uri": "https://localhost:8080/",
          "height": 34
        },
        "outputId": "cd099f94-2d6b-4fcd-ecc1-c8d6a487ac2f"
      },
      "cell_type": "code",
      "source": [
        "dummy_classifier.score(testX, testY)"
      ],
      "execution_count": 20,
      "outputs": [
        {
          "output_type": "execute_result",
          "data": {
            "text/plain": [
              "0.1"
            ]
          },
          "metadata": {
            "tags": []
          },
          "execution_count": 20
        }
      ]
    },
    {
      "metadata": {
        "id": "9TCjbsSg7xQ3",
        "colab_type": "code",
        "colab": {
          "base_uri": "https://localhost:8080/",
          "height": 51
        },
        "outputId": "aef991a1-b558-4d63-c4bc-d8146e05e156"
      },
      "cell_type": "code",
      "source": [
        "from sklearn.metrics import accuracy_score\n",
        "y_predicted = dummy_classifier.predict(testX)\n",
        "\n",
        "#print (testY)\n",
        "#print (y_predicted)\n",
        "# Find model accuracy\n",
        "print (\"Model accuracy = %0.2f\"%(accuracy_score(testY,y_predicted) * 100) + \"%\\n\")"
      ],
      "execution_count": 21,
      "outputs": [
        {
          "output_type": "stream",
          "text": [
            "Model accuracy = 10.00%\n",
            "\n"
          ],
          "name": "stdout"
        }
      ]
    },
    {
      "metadata": {
        "id": "3w8QhFmk-UWl",
        "colab_type": "text"
      },
      "cell_type": "markdown",
      "source": [
        "### Optimización del modelo"
      ]
    },
    {
      "metadata": {
        "id": "x2XMZXKWrA6G",
        "colab_type": "code",
        "colab": {}
      },
      "cell_type": "code",
      "source": [
        "from keras.layers import Dense, Dropout\n",
        "from keras.regularizers import l2\n",
        "\n",
        "model = Sequential()\n",
        "model.add(Dense(16,\n",
        "                input_shape=(4,), \n",
        "                activation=\"tanh\",\n",
        "                kernel_regularizer=l2(0.001)))\n",
        "model.add(Dropout(0.5))\n",
        "model.add(Dense(3, activation=\"softmax\"))\n",
        "\n",
        "\n",
        "\n",
        "model.compile(loss='categorical_crossentropy',\n",
        "              metrics=['accuracy'],\n",
        "              optimizer='adam')"
      ],
      "execution_count": 0,
      "outputs": []
    },
    {
      "metadata": {
        "id": "AYpANB7NBti1",
        "colab_type": "code",
        "colab": {
          "base_uri": "https://localhost:8080/",
          "height": 136
        },
        "outputId": "52a84b90-d58c-4098-b6a5-4db59036e7bf"
      },
      "cell_type": "code",
      "source": [
        ""
      ],
      "execution_count": 23,
      "outputs": [
        {
          "output_type": "stream",
          "text": [
            "Reading package lists... Done\n",
            "Building dependency tree       \n",
            "Reading state information... Done\n",
            "graphviz is already the newest version (2.38.0-16ubuntu2).\n",
            "python-pydot is already the newest version (1.0.28-2).\n",
            "python-pydot-ng is already the newest version (1.0.0-3).\n",
            "0 upgraded, 0 newly installed, 0 to remove and 6 not upgraded.\n"
          ],
          "name": "stdout"
        }
      ]
    },
    {
      "metadata": {
        "id": "28kMk40J_uFT",
        "colab_type": "code",
        "colab": {}
      },
      "cell_type": "code",
      "source": [
        "!apt install python-pydot python-pydot-ng graphviz\n",
        "!pip install -q pydot\n",
        "!pip install graphviz\n",
        "#Then reboot instance"
      ],
      "execution_count": 0,
      "outputs": []
    },
    {
      "metadata": {
        "id": "yuGByTI6ANVQ",
        "colab_type": "code",
        "colab": {
          "base_uri": "https://localhost:8080/",
          "height": 426
        },
        "outputId": "f0832ad6-e049-4ea3-960d-56df1375c8f1"
      },
      "cell_type": "code",
      "source": [
        "from IPython.display import SVG\n",
        "from keras.utils.vis_utils import model_to_dot\n",
        "from keras.utils import plot_model\n",
        "SVG(model_to_dot(model, show_shapes=True).create(prog='dot', format='svg'))"
      ],
      "execution_count": 26,
      "outputs": [
        {
          "output_type": "execute_result",
          "data": {
            "text/plain": [
              "<IPython.core.display.SVG object>"
            ],
            "image/svg+xml": "<svg height=\"304pt\" viewBox=\"0.00 0.00 368.00 304.00\" width=\"368pt\" xmlns=\"http://www.w3.org/2000/svg\" xmlns:xlink=\"http://www.w3.org/1999/xlink\">\n<g class=\"graph\" id=\"graph0\" transform=\"scale(1 1) rotate(0) translate(4 300)\">\n<title>G</title>\n<polygon fill=\"white\" points=\"-4,4 -4,-300 364,-300 364,4 -4,4\" stroke=\"none\"/>\n<!-- 139850416618968 -->\n<g class=\"node\" id=\"node1\"><title>139850416618968</title>\n<polygon fill=\"none\" points=\"0,-249.5 0,-295.5 360,-295.5 360,-249.5 0,-249.5\" stroke=\"black\"/>\n<text font-family=\"Times,serif\" font-size=\"14.00\" text-anchor=\"middle\" x=\"104.5\" y=\"-268.8\">dense_3_input: InputLayer</text>\n<polyline fill=\"none\" points=\"209,-249.5 209,-295.5 \" stroke=\"black\"/>\n<text font-family=\"Times,serif\" font-size=\"14.00\" text-anchor=\"middle\" x=\"243\" y=\"-280.3\">input:</text>\n<polyline fill=\"none\" points=\"209,-272.5 277,-272.5 \" stroke=\"black\"/>\n<text font-family=\"Times,serif\" font-size=\"14.00\" text-anchor=\"middle\" x=\"243\" y=\"-257.3\">output:</text>\n<polyline fill=\"none\" points=\"277,-249.5 277,-295.5 \" stroke=\"black\"/>\n<text font-family=\"Times,serif\" font-size=\"14.00\" text-anchor=\"middle\" x=\"318.5\" y=\"-280.3\">(None, 4)</text>\n<polyline fill=\"none\" points=\"277,-272.5 360,-272.5 \" stroke=\"black\"/>\n<text font-family=\"Times,serif\" font-size=\"14.00\" text-anchor=\"middle\" x=\"318.5\" y=\"-257.3\">(None, 4)</text>\n</g>\n<!-- 139850416618408 -->\n<g class=\"node\" id=\"node2\"><title>139850416618408</title>\n<polygon fill=\"none\" points=\"36,-166.5 36,-212.5 324,-212.5 324,-166.5 36,-166.5\" stroke=\"black\"/>\n<text font-family=\"Times,serif\" font-size=\"14.00\" text-anchor=\"middle\" x=\"100\" y=\"-185.8\">dense_3: Dense</text>\n<polyline fill=\"none\" points=\"164,-166.5 164,-212.5 \" stroke=\"black\"/>\n<text font-family=\"Times,serif\" font-size=\"14.00\" text-anchor=\"middle\" x=\"198\" y=\"-197.3\">input:</text>\n<polyline fill=\"none\" points=\"164,-189.5 232,-189.5 \" stroke=\"black\"/>\n<text font-family=\"Times,serif\" font-size=\"14.00\" text-anchor=\"middle\" x=\"198\" y=\"-174.3\">output:</text>\n<polyline fill=\"none\" points=\"232,-166.5 232,-212.5 \" stroke=\"black\"/>\n<text font-family=\"Times,serif\" font-size=\"14.00\" text-anchor=\"middle\" x=\"278\" y=\"-197.3\">(None, 4)</text>\n<polyline fill=\"none\" points=\"232,-189.5 324,-189.5 \" stroke=\"black\"/>\n<text font-family=\"Times,serif\" font-size=\"14.00\" text-anchor=\"middle\" x=\"278\" y=\"-174.3\">(None, 16)</text>\n</g>\n<!-- 139850416618968&#45;&gt;139850416618408 -->\n<g class=\"edge\" id=\"edge1\"><title>139850416618968-&gt;139850416618408</title>\n<path d=\"M180,-249.366C180,-241.152 180,-231.658 180,-222.725\" fill=\"none\" stroke=\"black\"/>\n<polygon fill=\"black\" points=\"183.5,-222.607 180,-212.607 176.5,-222.607 183.5,-222.607\" stroke=\"black\"/>\n</g>\n<!-- 139850416618464 -->\n<g class=\"node\" id=\"node3\"><title>139850416618464</title>\n<polygon fill=\"none\" points=\"21.5,-83.5 21.5,-129.5 338.5,-129.5 338.5,-83.5 21.5,-83.5\" stroke=\"black\"/>\n<text font-family=\"Times,serif\" font-size=\"14.00\" text-anchor=\"middle\" x=\"100\" y=\"-102.8\">dropout_1: Dropout</text>\n<polyline fill=\"none\" points=\"178.5,-83.5 178.5,-129.5 \" stroke=\"black\"/>\n<text font-family=\"Times,serif\" font-size=\"14.00\" text-anchor=\"middle\" x=\"212.5\" y=\"-114.3\">input:</text>\n<polyline fill=\"none\" points=\"178.5,-106.5 246.5,-106.5 \" stroke=\"black\"/>\n<text font-family=\"Times,serif\" font-size=\"14.00\" text-anchor=\"middle\" x=\"212.5\" y=\"-91.3\">output:</text>\n<polyline fill=\"none\" points=\"246.5,-83.5 246.5,-129.5 \" stroke=\"black\"/>\n<text font-family=\"Times,serif\" font-size=\"14.00\" text-anchor=\"middle\" x=\"292.5\" y=\"-114.3\">(None, 16)</text>\n<polyline fill=\"none\" points=\"246.5,-106.5 338.5,-106.5 \" stroke=\"black\"/>\n<text font-family=\"Times,serif\" font-size=\"14.00\" text-anchor=\"middle\" x=\"292.5\" y=\"-91.3\">(None, 16)</text>\n</g>\n<!-- 139850416618408&#45;&gt;139850416618464 -->\n<g class=\"edge\" id=\"edge2\"><title>139850416618408-&gt;139850416618464</title>\n<path d=\"M180,-166.366C180,-158.152 180,-148.658 180,-139.725\" fill=\"none\" stroke=\"black\"/>\n<polygon fill=\"black\" points=\"183.5,-139.607 180,-129.607 176.5,-139.607 183.5,-139.607\" stroke=\"black\"/>\n</g>\n<!-- 139850416619024 -->\n<g class=\"node\" id=\"node4\"><title>139850416619024</title>\n<polygon fill=\"none\" points=\"36,-0.5 36,-46.5 324,-46.5 324,-0.5 36,-0.5\" stroke=\"black\"/>\n<text font-family=\"Times,serif\" font-size=\"14.00\" text-anchor=\"middle\" x=\"100\" y=\"-19.8\">dense_4: Dense</text>\n<polyline fill=\"none\" points=\"164,-0.5 164,-46.5 \" stroke=\"black\"/>\n<text font-family=\"Times,serif\" font-size=\"14.00\" text-anchor=\"middle\" x=\"198\" y=\"-31.3\">input:</text>\n<polyline fill=\"none\" points=\"164,-23.5 232,-23.5 \" stroke=\"black\"/>\n<text font-family=\"Times,serif\" font-size=\"14.00\" text-anchor=\"middle\" x=\"198\" y=\"-8.3\">output:</text>\n<polyline fill=\"none\" points=\"232,-0.5 232,-46.5 \" stroke=\"black\"/>\n<text font-family=\"Times,serif\" font-size=\"14.00\" text-anchor=\"middle\" x=\"278\" y=\"-31.3\">(None, 16)</text>\n<polyline fill=\"none\" points=\"232,-23.5 324,-23.5 \" stroke=\"black\"/>\n<text font-family=\"Times,serif\" font-size=\"14.00\" text-anchor=\"middle\" x=\"278\" y=\"-8.3\">(None, 3)</text>\n</g>\n<!-- 139850416618464&#45;&gt;139850416619024 -->\n<g class=\"edge\" id=\"edge3\"><title>139850416618464-&gt;139850416619024</title>\n<path d=\"M180,-83.3664C180,-75.1516 180,-65.6579 180,-56.7252\" fill=\"none\" stroke=\"black\"/>\n<polygon fill=\"black\" points=\"183.5,-56.6068 180,-46.6068 176.5,-56.6069 183.5,-56.6068\" stroke=\"black\"/>\n</g>\n</g>\n</svg>"
          },
          "metadata": {
            "tags": []
          },
          "execution_count": 26
        }
      ]
    },
    {
      "metadata": {
        "id": "F6QYZB1HCI_m",
        "colab_type": "code",
        "colab": {
          "base_uri": "https://localhost:8080/",
          "height": 417
        },
        "outputId": "098f7225-c851-4a9e-e324-78927d7d211a"
      },
      "cell_type": "code",
      "source": [
        "plot_model(model, show_shapes=True, to_file='network.png')\n",
        "from IPython.display import Image\n",
        "Image('network.png', width=400, height=400)"
      ],
      "execution_count": 31,
      "outputs": [
        {
          "output_type": "execute_result",
          "data": {
            "image/png": "[encoded data removed]",
            "text/plain": [
              "<IPython.core.display.Image object>"
            ]
          },
          "metadata": {
            "tags": [],
            "image/png": {
              "width": 400,
              "height": 400
            }
          },
          "execution_count": 31
        }
      ]
    },
    {
      "metadata": {
        "id": "3YrznXY_1ktX",
        "colab_type": "code",
        "colab": {}
      },
      "cell_type": "code",
      "source": [
        "history = model.fit(trainX, trainY, verbose=0, batch_size=1, epochs=100, validation_data=(testX, testY),\n",
        "          callbacks=[tbCallBack])"
      ],
      "execution_count": 0,
      "outputs": []
    },
    {
      "metadata": {
        "id": "0JvqCm9b2g5O",
        "colab_type": "code",
        "colab": {
          "base_uri": "https://localhost:8080/",
          "height": 382
        },
        "outputId": "19b18096-0fc1-4d4d-b2ca-526d07591204"
      },
      "cell_type": "code",
      "source": [
        "import matplotlib.pyplot as plt\n",
        "\n",
        "loss = history.history['loss']\n",
        "val_loss = history.history['val_loss']\n",
        "\n",
        "epochs = range(1, len(loss) + 1)\n",
        "\n",
        "plt.plot(epochs, loss, 'r--', label='Training loss')\n",
        "plt.plot(epochs, val_loss, 'b-', label='Validation loss')\n",
        "plt.title('Training and validation loss')\n",
        "plt.xlabel('Epochs')\n",
        "plt.ylabel('Loss')\n",
        "plt.legend()\n",
        "\n",
        "plt.show()"
      ],
      "execution_count": 50,
      "outputs": [
        {
          "output_type": "display_data",
          "data": {
            "image/png": "[encoded data removed]",
            "text/plain": [
              "<matplotlib.figure.Figure at 0x7f2aaa11dd68>"
            ]
          },
          "metadata": {
            "tags": []
          }
        }
      ]
    },
    {
      "metadata": {
        "id": "8MlZnQwt4nLW",
        "colab_type": "code",
        "colab": {
          "base_uri": "https://localhost:8080/",
          "height": 382
        },
        "outputId": "fd231203-d902-4bea-b882-f0fbb51d32cc"
      },
      "cell_type": "code",
      "source": [
        "plt.clf()   # clear figure\n",
        "\n",
        "acc = history.history['acc']\n",
        "val_acc = history.history['val_acc']\n",
        "\n",
        "plt.plot(epochs, acc, 'r--', label='Training acc')\n",
        "plt.plot(epochs, val_acc, 'b-', label='Validation acc')\n",
        "plt.title('Training and validation accuracy')\n",
        "plt.xlabel('Epochs')\n",
        "plt.ylabel('Loss')\n",
        "plt.legend()\n",
        "\n",
        "plt.show()"
      ],
      "execution_count": 51,
      "outputs": [
        {
          "output_type": "display_data",
          "data": {
            "image/png": "[encoded data removed]",
            "text/plain": [
              "<matplotlib.figure.Figure at 0x7f2aaa11d390>"
            ]
          },
          "metadata": {
            "tags": []
          }
        }
      ]
    },
    {
      "metadata": {
        "id": "Mqg6XBCy9OO6",
        "colab_type": "code",
        "colab": {
          "base_uri": "https://localhost:8080/",
          "height": 51
        },
        "outputId": "24acce63-5458-49f1-cf94-11c25a3fe088"
      },
      "cell_type": "code",
      "source": [
        "score, accuracy = model.evaluate(testX, testY, batch_size=16, verbose=0)\n",
        "#print(\"Test fraction correct (LR-Accuracy) = {:.2f}\".format(lr.score(testX, testY)))\n",
        "print(\"Test fraction correct (NN-Score) = {:.2f}\".format(score))\n",
        "print(\"Test fraction correct (NN-Accuracy) = {:.2f}\".format(accuracy))"
      ],
      "execution_count": 26,
      "outputs": [
        {
          "output_type": "stream",
          "text": [
            "Test fraction correct (NN-Score) = 0.06\n",
            "Test fraction correct (NN-Accuracy) = 1.00\n"
          ],
          "name": "stdout"
        }
      ]
    },
    {
      "metadata": {
        "id": "-gvd5du71j1X",
        "colab_type": "text"
      },
      "cell_type": "markdown",
      "source": [
        ""
      ]
    },
    {
      "metadata": {
        "id": "tmFFEzcAxZUA",
        "colab_type": "code",
        "colab": {}
      },
      "cell_type": "code",
      "source": [
        "pred_y = model.predict(testX)\n",
        "#pred_y"
      ],
      "execution_count": 0,
      "outputs": []
    },
    {
      "metadata": {
        "id": "wKwrUgyQyDU4",
        "colab_type": "code",
        "colab": {}
      },
      "cell_type": "code",
      "source": [
        "#testY"
      ],
      "execution_count": 0,
      "outputs": []
    },
    {
      "metadata": {
        "id": "o1Ev30pryQh5",
        "colab_type": "code",
        "colab": {
          "base_uri": "https://localhost:8080/",
          "height": 85
        },
        "outputId": "9c994616-f41b-4e16-dbb8-ac4aa7eef26c"
      },
      "cell_type": "code",
      "source": [
        "y_test_class = np.argmax(testY,axis=1)\n",
        "y_pred_class = np.argmax(pred_y,axis=1)\n",
        "\n",
        "print(y_test_class)\n",
        "print(y_pred_class)"
      ],
      "execution_count": 29,
      "outputs": [
        {
          "output_type": "stream",
          "text": [
            "[1 0 2 1 1 0 1 2 1 1 2 0 0 0 0 1 2 1 1 2 0 2 0 2 2 2 2 2 0 0 0 0 1 0 0 2 1\n",
            " 0 0 0 2 1 1 0 0 1 2 2 1 2]\n",
            "[1 0 2 1 1 0 1 2 1 1 2 0 0 0 0 1 2 1 1 2 0 2 0 2 2 2 2 2 0 0 0 0 1 0 0 2 1\n",
            " 0 0 0 2 1 1 0 0 1 2 2 1 2]\n"
          ],
          "name": "stdout"
        }
      ]
    },
    {
      "metadata": {
        "id": "K55mzs2dypf_",
        "colab_type": "code",
        "colab": {
          "base_uri": "https://localhost:8080/",
          "height": 204
        },
        "outputId": "e84042fe-ee87-4dfb-becc-20a669925177"
      },
      "cell_type": "code",
      "source": [
        "from sklearn.metrics import classification_report,confusion_matrix\n",
        "print(classification_report(y_test_class,y_pred_class))\n",
        "print(confusion_matrix(y_test_class,y_pred_class))"
      ],
      "execution_count": 30,
      "outputs": [
        {
          "output_type": "stream",
          "text": [
            "             precision    recall  f1-score   support\n",
            "\n",
            "          0       1.00      1.00      1.00        19\n",
            "          1       1.00      1.00      1.00        15\n",
            "          2       1.00      1.00      1.00        16\n",
            "\n",
            "avg / total       1.00      1.00      1.00        50\n",
            "\n",
            "[[19  0  0]\n",
            " [ 0 15  0]\n",
            " [ 0  0 16]]\n"
          ],
          "name": "stdout"
        }
      ]
    },
    {
      "metadata": {
        "id": "bsEVzxfNxIrD",
        "colab_type": "code",
        "colab": {
          "base_uri": "https://localhost:8080/",
          "height": 68
        },
        "outputId": "b1734369-9291-4afe-9411-5ab089db553d"
      },
      "cell_type": "code",
      "source": [
        "confusion_matrix = confusion_matrix(y_test_class, y_pred_class)\n",
        "print(confusion_matrix)"
      ],
      "execution_count": 34,
      "outputs": [
        {
          "output_type": "stream",
          "text": [
            "[[19  0  0]\n",
            " [ 0 15  0]\n",
            " [ 0  1 15]]\n"
          ],
          "name": "stdout"
        }
      ]
    },
    {
      "metadata": {
        "id": "HQpYRFps9fYQ",
        "colab_type": "code",
        "colab": {}
      },
      "cell_type": "code",
      "source": [
        "# Random classifier\n",
        "\n",
        "import copy\n",
        "\n",
        "y_pred_class_copy = copy.copy(y_pred_class)\n",
        "np.random.shuffle(y_pred_class_copy)\n",
        "float(np.sum(np.array(y_pred_class) == np.array(y_pred_class_copy))) / len(y_pred_class)"
      ],
      "execution_count": 0,
      "outputs": []
    },
    {
      "metadata": {
        "id": "6Xa9DkZBs4QU",
        "colab_type": "text"
      },
      "cell_type": "markdown",
      "source": [
        "# Tf"
      ]
    },
    {
      "metadata": {
        "id": "-6SSbFpNs5mR",
        "colab_type": "code",
        "colab": {}
      },
      "cell_type": "code",
      "source": [
        "# numFeatures is the number of features in our input data.\n",
        "# In the iris dataset, this number is '4'.\n",
        "numFeatures = trainX.shape[1]\n",
        "\n",
        "# numLabels is the number of classes our data points can be in.\n",
        "# In the iris dataset, this number is '3'.\n",
        "numLabels = trainY.shape[1]\n",
        "\n",
        "\n",
        "# Placeholders\n",
        "# 'None' means TensorFlow shouldn't expect a fixed number in that dimension\n",
        "X = tf.placeholder(tf.float32, [None, numFeatures]) # Iris has 4 features, so X is a tensor to hold our data.\n",
        "yGold = tf.placeholder(tf.float32, [None, numLabels]) # This will be our correct answers matrix for 3 classes."
      ],
      "execution_count": 0,
      "outputs": []
    },
    {
      "metadata": {
        "id": "BQuxj5DEtEyE",
        "colab_type": "code",
        "colab": {}
      },
      "cell_type": "code",
      "source": [
        "W = tf.Variable(tf.zeros([4, 3]))  # 4-dimensional input and  3 classes\n",
        "b = tf.Variable(tf.zeros([3])) # 3-dimensional output [0,0,1],[0,1,0],[1,0,0]"
      ],
      "execution_count": 0,
      "outputs": []
    },
    {
      "metadata": {
        "id": "Z0yZAWEttIU2",
        "colab_type": "code",
        "colab": {}
      },
      "cell_type": "code",
      "source": [
        "#Randomly sample from a normal distribution with standard deviation .01\n",
        "\n",
        "weights = tf.Variable(tf.random_normal([numFeatures,numLabels],\n",
        "                                       mean=0,\n",
        "                                       stddev=0.01,\n",
        "                                       name=\"weights\"))\n",
        "\n",
        "bias = tf.Variable(tf.random_normal([1,numLabels],\n",
        "                                    mean=0,\n",
        "                                    stddev=0.01,\n",
        "                                    name=\"bias\"))"
      ],
      "execution_count": 0,
      "outputs": []
    },
    {
      "metadata": {
        "id": "AhuyjjA1tLFe",
        "colab_type": "code",
        "colab": {}
      },
      "cell_type": "code",
      "source": [
        "# Three-component breakdown of the Logistic Regression equation.\n",
        "# Note that these feed into each other.\n",
        "apply_weights_OP = tf.matmul(X, weights, name=\"apply_weights\")\n",
        "add_bias_OP = tf.add(apply_weights_OP, bias, name=\"add_bias\") \n",
        "activation_OP = tf.nn.sigmoid(add_bias_OP, name=\"activation\")"
      ],
      "execution_count": 0,
      "outputs": []
    },
    {
      "metadata": {
        "id": "PeKVpB9xtPD7",
        "colab_type": "code",
        "colab": {}
      },
      "cell_type": "code",
      "source": [
        "# Number of Epochs in our training\n",
        "numEpochs = 700\n",
        "\n",
        "# Defining our learning rate iterations (decay)\n",
        "learningRate = tf.train.exponential_decay(learning_rate=0.0008,\n",
        "                                          global_step= 1,\n",
        "                                          decay_steps=trainX.shape[0],\n",
        "                                          decay_rate= 0.95,\n",
        "                                          staircase=True)"
      ],
      "execution_count": 0,
      "outputs": []
    },
    {
      "metadata": {
        "id": "kPArB69XtSdt",
        "colab_type": "code",
        "colab": {}
      },
      "cell_type": "code",
      "source": [
        "#Defining our cost function - Squared Mean Error\n",
        "cost_OP = tf.nn.l2_loss(activation_OP-yGold, name=\"squared_error_cost\")\n",
        "\n",
        "#Defining our Gradient Descent\n",
        "training_OP = tf.train.GradientDescentOptimizer(learningRate).minimize(cost_OP)"
      ],
      "execution_count": 0,
      "outputs": []
    },
    {
      "metadata": {
        "id": "OznoapXAtWKd",
        "colab_type": "code",
        "colab": {}
      },
      "cell_type": "code",
      "source": [
        "# Create a tensorflow session\n",
        "sess = tf.Session()\n",
        "\n",
        "# Initialize our weights and biases variables.\n",
        "init_OP = tf.global_variables_initializer()\n",
        "\n",
        "# Initialize all tensorflow variables\n",
        "sess.run(init_OP)"
      ],
      "execution_count": 0,
      "outputs": []
    },
    {
      "metadata": {
        "id": "TNn8likItZV9",
        "colab_type": "code",
        "colab": {}
      },
      "cell_type": "code",
      "source": [
        "# argmax(activation_OP, 1) returns the label with the most probability\n",
        "# argmax(yGold, 1) is the correct label\n",
        "correct_predictions_OP = tf.equal(tf.argmax(activation_OP,1),tf.argmax(yGold,1))\n",
        "\n",
        "# If every false prediction is 0 and every true prediction is 1, the average returns us the accuracy\n",
        "accuracy_OP = tf.reduce_mean(tf.cast(correct_predictions_OP, \"float\"))\n",
        "\n",
        "# Summary op for regression output\n",
        "activation_summary_OP = tf.summary.histogram(\"output\", activation_OP)\n",
        "\n",
        "# Summary op for accuracy\n",
        "accuracy_summary_OP = tf.summary.scalar(\"accuracy\", accuracy_OP)\n",
        "\n",
        "# Summary op for cost\n",
        "cost_summary_OP = tf.summary.scalar(\"cost\", cost_OP)\n",
        "\n",
        "# Summary ops to check how variables (W, b) are updating after each iteration\n",
        "weightSummary = tf.summary.histogram(\"weights\", weights.eval(session=sess))\n",
        "biasSummary = tf.summary.histogram(\"biases\", bias.eval(session=sess))\n",
        "\n",
        "# Merge all summaries\n",
        "merged = tf.summary.merge([activation_summary_OP, accuracy_summary_OP, cost_summary_OP, weightSummary, biasSummary])\n",
        "\n",
        "# Summary writer\n",
        "writer = tf.summary.FileWriter(LOG_DIR + \"summary_logs\", sess.graph)"
      ],
      "execution_count": 0,
      "outputs": []
    },
    {
      "metadata": {
        "id": "Lo0ACGO9tccn",
        "colab_type": "code",
        "colab": {
          "base_uri": "https://localhost:8080/",
          "height": 1224
        },
        "outputId": "c7f847f1-f36a-4218-9124-7d5dc4b9f9c9"
      },
      "cell_type": "code",
      "source": [
        "# Initialize reporting variables\n",
        "cost = 0\n",
        "diff = 1\n",
        "epoch_values = []\n",
        "accuracy_values = []\n",
        "cost_values = []\n",
        "\n",
        "# Training epochs\n",
        "for i in range(numEpochs):\n",
        "    if i > 1 and diff < .0001:\n",
        "        print(\"change in cost %g; convergence.\"%diff)\n",
        "        break\n",
        "    else:\n",
        "        # Run training step\n",
        "        step = sess.run(training_OP, feed_dict={X: trainX, yGold: trainY})\n",
        "        # Report occasional stats\n",
        "        if i % 10 == 0:\n",
        "            # Add epoch to epoch_values\n",
        "            epoch_values.append(i)\n",
        "            # Generate accuracy stats on test data\n",
        "            train_accuracy, newCost = sess.run([accuracy_OP, cost_OP], feed_dict={X: trainX, yGold: trainY})\n",
        "            # Add accuracy to live graphing variable\n",
        "            accuracy_values.append(train_accuracy)\n",
        "            # Add cost to live graphing variable\n",
        "            cost_values.append(newCost)\n",
        "            # Re-assign values for variables\n",
        "            diff = abs(newCost - cost)\n",
        "            cost = newCost\n",
        "\n",
        "            #generate print statements\n",
        "            print(\"step %d, training accuracy %g, cost %g, change in cost %g\"%(i, train_accuracy, newCost, diff))\n",
        "\n",
        "\n",
        "# How well do we perform on held-out test data?\n",
        "print(\"final accuracy on test set: %s\" %str(sess.run(accuracy_OP, \n",
        "                                                     feed_dict={X: testX, \n",
        "                                                                yGold: testY})))"
      ],
      "execution_count": 43,
      "outputs": [
        {
          "output_type": "stream",
          "text": [
            "step 0, training accuracy 0.333333, cost 33.9612, change in cost 33.9612\n",
            "step 10, training accuracy 0.555556, cost 30.1788, change in cost 3.78246\n",
            "step 20, training accuracy 0.646465, cost 28.2344, change in cost 1.94443\n",
            "step 30, training accuracy 0.646465, cost 26.5885, change in cost 1.64588\n",
            "step 40, training accuracy 0.646465, cost 25.2182, change in cost 1.37033\n",
            "step 50, training accuracy 0.646465, cost 24.0844, change in cost 1.13373\n",
            "step 60, training accuracy 0.646465, cost 23.1451, change in cost 0.939333\n",
            "step 70, training accuracy 0.646465, cost 22.3621, change in cost 0.783026\n",
            "step 80, training accuracy 0.646465, cost 21.7037, change in cost 0.658354\n",
            "step 90, training accuracy 0.646465, cost 21.1448, change in cost 0.558922\n",
            "step 100, training accuracy 0.656566, cost 20.6655, change in cost 0.479267\n",
            "step 110, training accuracy 0.666667, cost 20.2505, change in cost 0.415014\n",
            "step 120, training accuracy 0.666667, cost 19.8877, change in cost 0.36277\n",
            "step 130, training accuracy 0.666667, cost 19.5678, change in cost 0.319916\n",
            "step 140, training accuracy 0.666667, cost 19.2834, change in cost 0.284458\n",
            "step 150, training accuracy 0.666667, cost 19.0285, change in cost 0.254873\n",
            "step 160, training accuracy 0.686869, cost 18.7985, change in cost 0.229982\n",
            "step 170, training accuracy 0.686869, cost 18.5896, change in cost 0.208879\n",
            "step 180, training accuracy 0.69697, cost 18.3988, change in cost 0.190857\n",
            "step 190, training accuracy 0.707071, cost 18.2234, change in cost 0.17535\n",
            "step 200, training accuracy 0.717172, cost 18.0615, change in cost 0.161924\n",
            "step 210, training accuracy 0.737374, cost 17.9113, change in cost 0.150229\n",
            "step 220, training accuracy 0.737374, cost 17.7713, change in cost 0.139977\n",
            "step 230, training accuracy 0.747475, cost 17.6403, change in cost 0.130941\n",
            "step 240, training accuracy 0.757576, cost 17.5174, change in cost 0.122938\n",
            "step 250, training accuracy 0.777778, cost 17.4016, change in cost 0.115812\n",
            "step 260, training accuracy 0.787879, cost 17.2922, change in cost 0.109436\n",
            "step 270, training accuracy 0.787879, cost 17.1884, change in cost 0.103712\n",
            "step 280, training accuracy 0.787879, cost 17.0899, change in cost 0.0985451\n",
            "step 290, training accuracy 0.787879, cost 16.996, change in cost 0.0938683\n",
            "step 300, training accuracy 0.79798, cost 16.9064, change in cost 0.089613\n",
            "step 310, training accuracy 0.79798, cost 16.8207, change in cost 0.0857296\n",
            "step 320, training accuracy 0.79798, cost 16.7385, change in cost 0.0821762\n",
            "step 330, training accuracy 0.79798, cost 16.6596, change in cost 0.0789108\n",
            "step 340, training accuracy 0.79798, cost 16.5837, change in cost 0.0759029\n",
            "step 350, training accuracy 0.818182, cost 16.5106, change in cost 0.0731258\n",
            "step 360, training accuracy 0.828283, cost 16.44, change in cost 0.070549\n",
            "step 370, training accuracy 0.838384, cost 16.3719, change in cost 0.0681572\n",
            "step 380, training accuracy 0.838384, cost 16.3059, change in cost 0.0659294\n",
            "step 390, training accuracy 0.838384, cost 16.2421, change in cost 0.0638485\n",
            "step 400, training accuracy 0.848485, cost 16.1802, change in cost 0.061903\n",
            "step 410, training accuracy 0.848485, cost 16.1201, change in cost 0.0600758\n",
            "step 420, training accuracy 0.848485, cost 16.0618, change in cost 0.058363\n",
            "step 430, training accuracy 0.858586, cost 16.005, change in cost 0.0567455\n",
            "step 440, training accuracy 0.858586, cost 15.9498, change in cost 0.0552197\n",
            "step 450, training accuracy 0.868687, cost 15.896, change in cost 0.0537815\n",
            "step 460, training accuracy 0.878788, cost 15.8436, change in cost 0.0524168\n",
            "step 470, training accuracy 0.878788, cost 15.7925, change in cost 0.0511236\n",
            "step 480, training accuracy 0.878788, cost 15.7426, change in cost 0.0498943\n",
            "step 490, training accuracy 0.878788, cost 15.6938, change in cost 0.0487309\n",
            "step 500, training accuracy 0.878788, cost 15.6462, change in cost 0.0476141\n",
            "step 510, training accuracy 0.878788, cost 15.5997, change in cost 0.0465536\n",
            "step 520, training accuracy 0.878788, cost 15.5541, change in cost 0.0455389\n",
            "step 530, training accuracy 0.888889, cost 15.5096, change in cost 0.04457\n",
            "step 540, training accuracy 0.89899, cost 15.4659, change in cost 0.043642\n",
            "step 550, training accuracy 0.89899, cost 15.4232, change in cost 0.0427532\n",
            "step 560, training accuracy 0.89899, cost 15.3813, change in cost 0.0418987\n",
            "step 570, training accuracy 0.89899, cost 15.3402, change in cost 0.0410786\n",
            "step 580, training accuracy 0.89899, cost 15.2999, change in cost 0.0402889\n",
            "step 590, training accuracy 0.89899, cost 15.2604, change in cost 0.0395317\n",
            "step 600, training accuracy 0.909091, cost 15.2216, change in cost 0.0388002\n",
            "step 610, training accuracy 0.909091, cost 15.1835, change in cost 0.0380936\n",
            "step 620, training accuracy 0.909091, cost 15.1461, change in cost 0.0374165\n",
            "step 630, training accuracy 0.909091, cost 15.1093, change in cost 0.0367575\n",
            "step 640, training accuracy 0.909091, cost 15.0732, change in cost 0.0361223\n",
            "step 650, training accuracy 0.909091, cost 15.0377, change in cost 0.0355101\n",
            "step 660, training accuracy 0.909091, cost 15.0028, change in cost 0.0349159\n",
            "step 670, training accuracy 0.909091, cost 14.9684, change in cost 0.034339\n",
            "step 680, training accuracy 0.909091, cost 14.9346, change in cost 0.033782\n",
            "step 690, training accuracy 0.909091, cost 14.9014, change in cost 0.0332422\n",
            "final accuracy on test set: 0.9\n"
          ],
          "name": "stdout"
        }
      ]
    },
    {
      "metadata": {
        "id": "ZPxVBcVStk1s",
        "colab_type": "code",
        "colab": {
          "base_uri": "https://localhost:8080/",
          "height": 345
        },
        "outputId": "8b4726fe-579f-4934-9842-bef4a40c3967"
      },
      "cell_type": "code",
      "source": [
        "%matplotlib inline\n",
        "import numpy as np\n",
        "import matplotlib.pyplot as plt\n",
        "plt.plot([np.mean(cost_values[i-50:i]) for i in range(len(cost_values))])\n",
        "plt.show()"
      ],
      "execution_count": 44,
      "outputs": [
        {
          "output_type": "stream",
          "text": [
            "/usr/local/lib/python3.6/dist-packages/numpy/core/fromnumeric.py:2957: RuntimeWarning: Mean of empty slice.\n",
            "  out=out, **kwargs)\n",
            "/usr/local/lib/python3.6/dist-packages/numpy/core/_methods.py:80: RuntimeWarning: invalid value encountered in double_scalars\n",
            "  ret = ret.dtype.type(ret / rcount)\n"
          ],
          "name": "stderr"
        },
        {
          "output_type": "display_data",
          "data": {
            "image/png": "[encoded data removed]",
            "text/plain": [
              "<matplotlib.figure.Figure at 0x7fe859b28780>"
            ]
          },
          "metadata": {
            "tags": []
          }
        }
      ]
    },
    {
      "metadata": {
        "id": "j4pCm4xc9I_g",
        "colab_type": "code",
        "colab": {}
      },
      "cell_type": "code",
      "source": [
        ""
      ],
      "execution_count": 0,
      "outputs": []
    },
    {
      "metadata": {
        "id": "NiRDIsV8tqch",
        "colab_type": "code",
        "colab": {
          "base_uri": "https://localhost:8080/",
          "height": 68
        },
        "outputId": "d5c22180-3d0d-4fc3-9b47-c12e302b0eed"
      },
      "cell_type": "code",
      "source": [
        "!ps aux | grep tensorboard"
      ],
      "execution_count": 48,
      "outputs": [
        {
          "output_type": "stream",
          "text": [
            "root       107  0.5  2.1 1771156 283032 ?      Sl   16:03   0:11 /usr/bin/python2 /usr/local/bin/tensorboard --logdir ./log --host 0.0.0.0 --port 6006\r\n",
            "root       460  100  0.0  33964  4820 pts/0    Ss+  16:39   0:01 /bin/sh -c ps aux | grep tensorboard\r\n",
            "root       462  0.0  0.0  38200  5588 pts/0    S+   16:39   0:00 grep tensorboard\r\n"
          ],
          "name": "stdout"
        }
      ]
    },
    {
      "metadata": {
        "id": "w5qPN8eaAwzM",
        "colab_type": "code",
        "colab": {
          "base_uri": "https://localhost:8080/",
          "height": 68
        },
        "outputId": "8a9b5c37-cced-47d3-fbdb-d2e0b170fe9f"
      },
      "cell_type": "code",
      "source": [
        "!ps aux | grep ngrok"
      ],
      "execution_count": 49,
      "outputs": [
        {
          "output_type": "stream",
          "text": [
            "root       341  0.4  0.3  51220 43556 ?        Sl   16:29   0:02 ./ngrok http 6006\r\n",
            "root       463  100  0.0  33964  4796 pts/0    Ss+  16:39   0:01 /bin/sh -c ps aux | grep ngrok\r\n",
            "root       465  0.0  0.0  38200  4952 pts/0    S+   16:39   0:00 grep ngrok\r\n"
          ],
          "name": "stdout"
        }
      ]
    },
    {
      "metadata": {
        "id": "d6lGYSg5A-ii",
        "colab_type": "code",
        "colab": {}
      },
      "cell_type": "code",
      "source": [
        "!kill 107"
      ],
      "execution_count": 0,
      "outputs": []
    },
    {
      "metadata": {
        "id": "DytGm3PdAzqJ",
        "colab_type": "code",
        "colab": {}
      },
      "cell_type": "code",
      "source": [
        "!rm -rf log"
      ],
      "execution_count": 0,
      "outputs": []
    },
    {
      "metadata": {
        "id": "hMwN7iYOBBOM",
        "colab_type": "code",
        "colab": {
          "base_uri": "https://localhost:8080/",
          "height": 51
        },
        "outputId": "ec2cba88-12c3-4063-9e17-852c3d1a8aaa"
      },
      "cell_type": "code",
      "source": [
        "!ls log"
      ],
      "execution_count": 46,
      "outputs": [
        {
          "output_type": "stream",
          "text": [
            "events.out.tfevents.1530648033.27470c3c338c\r\n",
            "events.out.tfevents.1530650649.27470c3c338c\r\n"
          ],
          "name": "stdout"
        }
      ]
    },
    {
      "metadata": {
        "id": "-9D1jvDa8QyT",
        "colab_type": "code",
        "colab": {}
      },
      "cell_type": "code",
      "source": [
        ""
      ],
      "execution_count": 0,
      "outputs": []
    }
  ]
}