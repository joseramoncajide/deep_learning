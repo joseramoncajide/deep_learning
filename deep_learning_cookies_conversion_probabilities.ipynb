{
  "nbformat": 4,
  "nbformat_minor": 0,
  "metadata": {
    "colab": {
      "name": "deep_learning_cookies_conversion_probabilities.ipynb",
      "version": "0.3.2",
      "provenance": []
    },
    "kernelspec": {
      "name": "python3",
      "display_name": "Python 3"
    }
  },
  "cells": [
    {
      "metadata": {
        "id": "ZE1PvR3K58nV",
        "colab_type": "code",
        "colab": {}
      },
      "cell_type": "code",
      "source": [
        "import tensorflow as tf\n",
        "import pandas as pd\n",
        "import numpy as np\n",
        "import time\n",
        "from sklearn.model_selection import train_test_split\n",
        "import matplotlib.pyplot as plt"
      ],
      "execution_count": 0,
      "outputs": []
    },
    {
      "metadata": {
        "id": "R6FFAV8f6FVX",
        "colab_type": "code",
        "colab": {
          "resources": {
            "http://localhost:8080/nbextensions/google.colab/files.js": {
              "data": "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",
              "ok": true,
              "headers": [
                [
                  "content-type",
                  "application/javascript"
                ]
              ],
              "status": 200,
              "status_text": ""
            }
          },
          "base_uri": "https://localhost:8080/",
          "height": 86
        },
        "outputId": "b8d670e6-fa3a-462f-b89e-1c27aae82f2d"
      },
      "cell_type": "code",
      "source": [
        "from google.colab import files\n",
        "\n",
        "uploaded = files.upload()\n",
        "\n",
        "for fn in uploaded.keys():\n",
        "  print('User uploaded file \"{name}\" with length {length} bytes'.format(\n",
        "      name=fn, length=len(uploaded[fn])))"
      ],
      "execution_count": 110,
      "outputs": [
        {
          "output_type": "display_data",
          "data": {
            "text/html": [
              "\n",
              "     <input type=\"file\" id=\"files-afe7f166-ef07-408e-b885-dea2f7506cb0\" name=\"files[]\" multiple disabled />\n",
              "     <output id=\"result-afe7f166-ef07-408e-b885-dea2f7506cb0\">\n",
              "      Upload widget is only available when the cell has been executed in the\n",
              "      current browser session. Please rerun this cell to enable.\n",
              "      </output>\n",
              "      <script src=\"/nbextensions/google.colab/files.js\"></script> "
            ],
            "text/plain": [
              "<IPython.core.display.HTML object>"
            ]
          },
          "metadata": {
            "tags": []
          }
        },
        {
          "output_type": "stream",
          "text": [
            "Saving train_data.csv to train_data (2).csv\n",
            "User uploaded file \"train_data.csv\" with length 70821 bytes\n"
          ],
          "name": "stdout"
        }
      ]
    },
    {
      "metadata": {
        "id": "SWJmBOu56KiG",
        "colab_type": "code",
        "colab": {
          "base_uri": "https://localhost:8080/",
          "height": 253
        },
        "outputId": "cd5f1725-5647-455e-8c05-1f33e02b80d4"
      },
      "cell_type": "code",
      "source": [
        "df = pd.read_csv('train_data.csv')\n",
        "df.head()"
      ],
      "execution_count": 111,
      "outputs": [
        {
          "output_type": "execute_result",
          "data": {
            "text/html": [
              "<div>\n",
              "<style scoped>\n",
              "    .dataframe tbody tr th:only-of-type {\n",
              "        vertical-align: middle;\n",
              "    }\n",
              "\n",
              "    .dataframe tbody tr th {\n",
              "        vertical-align: top;\n",
              "    }\n",
              "\n",
              "    .dataframe thead th {\n",
              "        text-align: right;\n",
              "    }\n",
              "</style>\n",
              "<table border=\"1\" class=\"dataframe\">\n",
              "  <thead>\n",
              "    <tr style=\"text-align: right;\">\n",
              "      <th></th>\n",
              "      <th>a_fullVisitorId</th>\n",
              "      <th>a_hits_customDimensions_value</th>\n",
              "      <th>a_COUNT</th>\n",
              "      <th>a_SUM_totals_pageviews</th>\n",
              "      <th>a_SUM_totals_hits</th>\n",
              "      <th>a_SUM_totals_timeOnSite</th>\n",
              "      <th>a_SUM_hits_hitNumber</th>\n",
              "      <th>a_diffdays_latest</th>\n",
              "      <th>a_diffdays_oldest</th>\n",
              "      <th>a_desktop_flag</th>\n",
              "      <th>...</th>\n",
              "      <th>a_OS_Macintosh_flag</th>\n",
              "      <th>a_SUM_morning_visit</th>\n",
              "      <th>a_SUM_daytime_visit</th>\n",
              "      <th>a_SUM_evening_visit</th>\n",
              "      <th>a_SUM_midnight_visit</th>\n",
              "      <th>a_page201404</th>\n",
              "      <th>a_page201405</th>\n",
              "      <th>a_page201406</th>\n",
              "      <th>b_hits_customDimensions_value</th>\n",
              "      <th>b_CV_flag</th>\n",
              "    </tr>\n",
              "  </thead>\n",
              "  <tbody>\n",
              "    <tr>\n",
              "      <th>0</th>\n",
              "      <td>1</td>\n",
              "      <td>1</td>\n",
              "      <td>4</td>\n",
              "      <td>5</td>\n",
              "      <td>10</td>\n",
              "      <td>34</td>\n",
              "      <td>4</td>\n",
              "      <td>24</td>\n",
              "      <td>27</td>\n",
              "      <td>1</td>\n",
              "      <td>...</td>\n",
              "      <td>0</td>\n",
              "      <td>0</td>\n",
              "      <td>1</td>\n",
              "      <td>0</td>\n",
              "      <td>3</td>\n",
              "      <td>0</td>\n",
              "      <td>0</td>\n",
              "      <td>0</td>\n",
              "      <td>1</td>\n",
              "      <td>0</td>\n",
              "    </tr>\n",
              "    <tr>\n",
              "      <th>1</th>\n",
              "      <td>2</td>\n",
              "      <td>2</td>\n",
              "      <td>1</td>\n",
              "      <td>1</td>\n",
              "      <td>2</td>\n",
              "      <td>1</td>\n",
              "      <td>1</td>\n",
              "      <td>24</td>\n",
              "      <td>24</td>\n",
              "      <td>1</td>\n",
              "      <td>...</td>\n",
              "      <td>0</td>\n",
              "      <td>0</td>\n",
              "      <td>0</td>\n",
              "      <td>1</td>\n",
              "      <td>0</td>\n",
              "      <td>0</td>\n",
              "      <td>0</td>\n",
              "      <td>0</td>\n",
              "      <td>2</td>\n",
              "      <td>0</td>\n",
              "    </tr>\n",
              "    <tr>\n",
              "      <th>2</th>\n",
              "      <td>3</td>\n",
              "      <td>3</td>\n",
              "      <td>1</td>\n",
              "      <td>1</td>\n",
              "      <td>2</td>\n",
              "      <td>1</td>\n",
              "      <td>1</td>\n",
              "      <td>24</td>\n",
              "      <td>24</td>\n",
              "      <td>1</td>\n",
              "      <td>...</td>\n",
              "      <td>0</td>\n",
              "      <td>1</td>\n",
              "      <td>0</td>\n",
              "      <td>0</td>\n",
              "      <td>0</td>\n",
              "      <td>0</td>\n",
              "      <td>0</td>\n",
              "      <td>0</td>\n",
              "      <td>3</td>\n",
              "      <td>0</td>\n",
              "    </tr>\n",
              "    <tr>\n",
              "      <th>3</th>\n",
              "      <td>4</td>\n",
              "      <td>4</td>\n",
              "      <td>3</td>\n",
              "      <td>4</td>\n",
              "      <td>8</td>\n",
              "      <td>97</td>\n",
              "      <td>5</td>\n",
              "      <td>11</td>\n",
              "      <td>42</td>\n",
              "      <td>1</td>\n",
              "      <td>...</td>\n",
              "      <td>0</td>\n",
              "      <td>0</td>\n",
              "      <td>0</td>\n",
              "      <td>0</td>\n",
              "      <td>3</td>\n",
              "      <td>0</td>\n",
              "      <td>0</td>\n",
              "      <td>0</td>\n",
              "      <td>4</td>\n",
              "      <td>0</td>\n",
              "    </tr>\n",
              "    <tr>\n",
              "      <th>4</th>\n",
              "      <td>5</td>\n",
              "      <td>5</td>\n",
              "      <td>1</td>\n",
              "      <td>1</td>\n",
              "      <td>2</td>\n",
              "      <td>2</td>\n",
              "      <td>1</td>\n",
              "      <td>24</td>\n",
              "      <td>24</td>\n",
              "      <td>1</td>\n",
              "      <td>...</td>\n",
              "      <td>0</td>\n",
              "      <td>0</td>\n",
              "      <td>1</td>\n",
              "      <td>0</td>\n",
              "      <td>0</td>\n",
              "      <td>0</td>\n",
              "      <td>0</td>\n",
              "      <td>0</td>\n",
              "      <td>5</td>\n",
              "      <td>0</td>\n",
              "    </tr>\n",
              "  </tbody>\n",
              "</table>\n",
              "<p>5 rows × 23 columns</p>\n",
              "</div>"
            ],
            "text/plain": [
              "   a_fullVisitorId  a_hits_customDimensions_value  a_COUNT  \\\n",
              "0                1                              1        4   \n",
              "1                2                              2        1   \n",
              "2                3                              3        1   \n",
              "3                4                              4        3   \n",
              "4                5                              5        1   \n",
              "\n",
              "   a_SUM_totals_pageviews  a_SUM_totals_hits  a_SUM_totals_timeOnSite  \\\n",
              "0                       5                 10                       34   \n",
              "1                       1                  2                        1   \n",
              "2                       1                  2                        1   \n",
              "3                       4                  8                       97   \n",
              "4                       1                  2                        2   \n",
              "\n",
              "   a_SUM_hits_hitNumber  a_diffdays_latest  a_diffdays_oldest  a_desktop_flag  \\\n",
              "0                     4                 24                 27               1   \n",
              "1                     1                 24                 24               1   \n",
              "2                     1                 24                 24               1   \n",
              "3                     5                 11                 42               1   \n",
              "4                     1                 24                 24               1   \n",
              "\n",
              "     ...      a_OS_Macintosh_flag  a_SUM_morning_visit  a_SUM_daytime_visit  \\\n",
              "0    ...                        0                    0                    1   \n",
              "1    ...                        0                    0                    0   \n",
              "2    ...                        0                    1                    0   \n",
              "3    ...                        0                    0                    0   \n",
              "4    ...                        0                    0                    1   \n",
              "\n",
              "   a_SUM_evening_visit  a_SUM_midnight_visit  a_page201404  a_page201405  \\\n",
              "0                    0                     3             0             0   \n",
              "1                    1                     0             0             0   \n",
              "2                    0                     0             0             0   \n",
              "3                    0                     3             0             0   \n",
              "4                    0                     0             0             0   \n",
              "\n",
              "   a_page201406  b_hits_customDimensions_value  b_CV_flag  \n",
              "0             0                              1          0  \n",
              "1             0                              2          0  \n",
              "2             0                              3          0  \n",
              "3             0                              4          0  \n",
              "4             0                              5          0  \n",
              "\n",
              "[5 rows x 23 columns]"
            ]
          },
          "metadata": {
            "tags": []
          },
          "execution_count": 111
        }
      ]
    },
    {
      "metadata": {
        "id": "PI89FxjX6bCm",
        "colab_type": "code",
        "colab": {
          "base_uri": "https://localhost:8080/",
          "height": 34
        },
        "outputId": "6639ec54-5bf9-430b-b2f0-3a61a1ed9db4"
      },
      "cell_type": "code",
      "source": [
        "df.shape"
      ],
      "execution_count": 112,
      "outputs": [
        {
          "output_type": "execute_result",
          "data": {
            "text/plain": [
              "(1295, 23)"
            ]
          },
          "metadata": {
            "tags": []
          },
          "execution_count": 112
        }
      ]
    },
    {
      "metadata": {
        "id": "uQQLaXCi6dak",
        "colab_type": "code",
        "colab": {}
      },
      "cell_type": "code",
      "source": [
        "df = df.drop(['a_fullVisitorId', 'a_hits_customDimensions_value'], axis=1)"
      ],
      "execution_count": 0,
      "outputs": []
    },
    {
      "metadata": {
        "id": "c25zHUjQ7Gai",
        "colab_type": "code",
        "colab": {
          "base_uri": "https://localhost:8080/",
          "height": 34
        },
        "outputId": "b59f3508-45aa-4daa-c43a-c24e969dbf15"
      },
      "cell_type": "code",
      "source": [
        "dataset = df.values\n",
        "len(dataset)"
      ],
      "execution_count": 114,
      "outputs": [
        {
          "output_type": "execute_result",
          "data": {
            "text/plain": [
              "1295"
            ]
          },
          "metadata": {
            "tags": []
          },
          "execution_count": 114
        }
      ]
    },
    {
      "metadata": {
        "id": "2wLE267j8M0s",
        "colab_type": "code",
        "colab": {
          "base_uri": "https://localhost:8080/",
          "height": 136
        },
        "outputId": "92b663d1-c7e8-4e06-f393-df4d31995f7b"
      },
      "cell_type": "code",
      "source": [
        "X = dataset[:,0:19]\n",
        "Y = dataset[:,20]\n",
        "X"
      ],
      "execution_count": 151,
      "outputs": [
        {
          "output_type": "execute_result",
          "data": {
            "text/plain": [
              "array([[ 4,  5, 10, ...,  0,  0,  0],\n",
              "       [ 1,  1,  2, ...,  0,  0,  0],\n",
              "       [ 1,  1,  2, ...,  0,  0,  0],\n",
              "       ...,\n",
              "       [ 1,  1,  2, ...,  0,  0,  0],\n",
              "       [ 1,  1,  2, ...,  0,  0,  0],\n",
              "       [ 1,  1,  2, ...,  0,  0,  0]])"
            ]
          },
          "metadata": {
            "tags": []
          },
          "execution_count": 151
        }
      ]
    },
    {
      "metadata": {
        "id": "4x31gjzJ-XnA",
        "colab_type": "code",
        "colab": {
          "base_uri": "https://localhost:8080/",
          "height": 85
        },
        "outputId": "0899546d-e9e7-45e8-e179-5f428cf90168"
      },
      "cell_type": "code",
      "source": [
        "from sklearn.preprocessing import StandardScaler\n",
        "scaler = StandardScaler().fit(X)\n",
        "X = scaler.transform(X)\n",
        "# summarize transformed data\n",
        "np.set_printoptions(precision=3)\n",
        "print(X[0:1,:])\n"
      ],
      "execution_count": 152,
      "outputs": [
        {
          "output_type": "stream",
          "text": [
            "[[ 2.114  0.268  0.486 -0.063  0.58   0.069  0.242  0.164 -0.115 -0.115\n",
            "   0.267 -0.215 -0.378  0.369 -0.471  7.038 -0.191 -0.122 -0.074]]\n"
          ],
          "name": "stdout"
        },
        {
          "output_type": "stream",
          "text": [
            "/usr/local/lib/python3.6/dist-packages/sklearn/utils/validation.py:475: DataConversionWarning: Data with input dtype int64 was converted to float64 by StandardScaler.\n",
            "  warnings.warn(msg, DataConversionWarning)\n"
          ],
          "name": "stderr"
        }
      ]
    },
    {
      "metadata": {
        "id": "1xN8aTb17QE-",
        "colab_type": "code",
        "colab": {}
      },
      "cell_type": "code",
      "source": [
        "trainX, testX, trainY, testY = train_test_split(X, Y, test_size=0.33, random_state=42)"
      ],
      "execution_count": 0,
      "outputs": []
    },
    {
      "metadata": {
        "id": "WW4iv1PBAqLr",
        "colab_type": "code",
        "colab": {
          "base_uri": "https://localhost:8080/",
          "height": 34
        },
        "outputId": "020840ae-c6b1-4eda-aea6-c4eaf3151a60"
      },
      "cell_type": "code",
      "source": [
        "from sklearn.linear_model import LogisticRegressionCV\n",
        "lr = LogisticRegressionCV()\n",
        "lr.fit(trainX, trainY)\n",
        "pred_y = lr.predict(testX)\n",
        "print(\"Test fraction correct (LR-Accuracy) = {:.2f}\".format(lr.score(testX, testY)))"
      ],
      "execution_count": 118,
      "outputs": [
        {
          "output_type": "stream",
          "text": [
            "Test fraction correct (LR-Accuracy) = 0.89\n"
          ],
          "name": "stdout"
        }
      ]
    },
    {
      "metadata": {
        "id": "gBbCIcGJGTb7",
        "colab_type": "code",
        "colab": {
          "base_uri": "https://localhost:8080/",
          "height": 51
        },
        "outputId": "15671c4e-2f8a-4dfb-baa6-3003aa20870f"
      },
      "cell_type": "code",
      "source": [
        "from sklearn.metrics import confusion_matrix\n",
        "confusion_matrix = confusion_matrix(testY, pred_y)\n",
        "print(confusion_matrix)"
      ],
      "execution_count": 119,
      "outputs": [
        {
          "output_type": "stream",
          "text": [
            "[[363   5]\n",
            " [ 44  16]]\n"
          ],
          "name": "stdout"
        }
      ]
    },
    {
      "metadata": {
        "id": "FGw3DsZ_G38G",
        "colab_type": "text"
      },
      "cell_type": "markdown",
      "source": [
        "## Deep Learning"
      ]
    },
    {
      "metadata": {
        "id": "E8MBApA9HF6c",
        "colab_type": "code",
        "colab": {}
      },
      "cell_type": "code",
      "source": [
        "from keras.models import Sequential\n",
        "from keras.layers.core import Dense, Activation\n",
        "from keras.utils import np_utils"
      ],
      "execution_count": 0,
      "outputs": []
    },
    {
      "metadata": {
        "id": "ktzppXliGi9s",
        "colab_type": "code",
        "colab": {}
      },
      "cell_type": "code",
      "source": [
        "trainY = pd.get_dummies(trainY).values\n",
        "testY = pd.get_dummies(testY).values"
      ],
      "execution_count": 0,
      "outputs": []
    },
    {
      "metadata": {
        "id": "JJjA5V_1G6pa",
        "colab_type": "code",
        "colab": {}
      },
      "cell_type": "code",
      "source": [
        "model = Sequential()\n",
        "model.add(Dense(16, input_shape=(19,)))\n",
        "model.add(Activation('sigmoid'))\n",
        "model.add(Dense(2))\n",
        "model.add(Activation('softmax'))\n",
        "model.compile(loss='categorical_crossentropy', metrics=['accuracy'], optimizer='adam')"
      ],
      "execution_count": 0,
      "outputs": []
    },
    {
      "metadata": {
        "id": "ZpTRItl7HRaH",
        "colab_type": "code",
        "colab": {
          "base_uri": "https://localhost:8080/",
          "height": 85
        },
        "outputId": "1f7d0c91-17e6-4115-d10e-a68b3344e857"
      },
      "cell_type": "code",
      "source": [
        "model.fit(trainX, trainY, verbose=1, batch_size=1)\n",
        "score, accuracy = model.evaluate(testX, testY, batch_size=16, verbose=0)\n",
        "print(\"Test fraction correct (NN-Score) = {:.2f}\".format(score))\n",
        "print(\"Test fraction correct (NN-Accuracy) = {:.2f}\".format(accuracy))"
      ],
      "execution_count": 123,
      "outputs": [
        {
          "output_type": "stream",
          "text": [
            "Epoch 1/1\n",
            "867/867 [==============================] - 2s 2ms/step - loss: 0.3635 - acc: 0.8570\n",
            "Test fraction correct (NN-Score) = 0.34\n",
            "Test fraction correct (NN-Accuracy) = 0.86\n"
          ],
          "name": "stdout"
        }
      ]
    },
    {
      "metadata": {
        "id": "KM-iUcQMHYGj",
        "colab_type": "code",
        "colab": {}
      },
      "cell_type": "code",
      "source": [
        "from keras.layers import Dense, Dropout\n",
        "from keras.regularizers import l2\n",
        "from keras import optimizers\n",
        "\n",
        "model = Sequential()\n",
        "model.add(Dense(16,\n",
        "                input_shape=(19,), \n",
        "                activation=\"relu\",\n",
        "                kernel_regularizer=l2(0.001)))\n",
        "model.add(Dropout(0.5))\n",
        "model.add(Dense(2, activation=\"softmax\"))\n",
        "\n",
        "\n",
        "\n",
        "model.compile(loss='categorical_crossentropy',\n",
        "              metrics=['accuracy'],\n",
        "              optimizer=optimizers.RMSprop(lr=0.001))"
      ],
      "execution_count": 0,
      "outputs": []
    },
    {
      "metadata": {
        "id": "g7HMQSIdMLir",
        "colab_type": "code",
        "colab": {}
      },
      "cell_type": "code",
      "source": [
        "history = model.fit(trainX, trainY, verbose=0, batch_size=1, epochs=40, validation_data=(testX, testY))"
      ],
      "execution_count": 0,
      "outputs": []
    },
    {
      "metadata": {
        "id": "NaCqv8k6MR0O",
        "colab_type": "code",
        "colab": {
          "base_uri": "https://localhost:8080/",
          "height": 376
        },
        "outputId": "a95eb5ee-4c31-437d-be05-805590823776"
      },
      "cell_type": "code",
      "source": [
        "loss = history.history['loss']\n",
        "val_loss = history.history['val_loss']\n",
        "\n",
        "epochs = range(1, len(loss) + 1)\n",
        "\n",
        "plt.plot(epochs, loss, 'r--', label='Training loss')\n",
        "plt.plot(epochs, val_loss, 'b-', label='Validation loss')\n",
        "plt.title('Training and validation loss')\n",
        "plt.xlabel('Epochs')\n",
        "plt.ylabel('Loss')\n",
        "plt.legend()\n",
        "\n",
        "plt.show()"
      ],
      "execution_count": 126,
      "outputs": [
        {
          "output_type": "display_data",
          "data": {
            "image/png": "[encoded data removed]",
            "text/plain": [
              "<matplotlib.figure.Figure at 0x7f4bea226b00>"
            ]
          },
          "metadata": {
            "tags": []
          }
        }
      ]
    },
    {
      "metadata": {
        "id": "-iynFS1lM9Ct",
        "colab_type": "code",
        "colab": {
          "base_uri": "https://localhost:8080/",
          "height": 376
        },
        "outputId": "f0b6deb1-34f8-4916-c831-b2fed345e58a"
      },
      "cell_type": "code",
      "source": [
        "plt.clf()   # clear figure\n",
        "\n",
        "acc = history.history['acc']\n",
        "val_acc = history.history['val_acc']\n",
        "\n",
        "plt.plot(epochs, acc, 'r--', label='Training acc')\n",
        "plt.plot(epochs, val_acc, 'b-', label='Validation acc')\n",
        "plt.title('Training and validation accuracy')\n",
        "plt.xlabel('Epochs')\n",
        "plt.ylabel('Loss')\n",
        "plt.legend()\n",
        "\n",
        "plt.show()"
      ],
      "execution_count": 127,
      "outputs": [
        {
          "output_type": "display_data",
          "data": {
            "image/png": "[encoded data removed]",
            "text/plain": [
              "<matplotlib.figure.Figure at 0x7f4bea2162b0>"
            ]
          },
          "metadata": {
            "tags": []
          }
        }
      ]
    },
    {
      "metadata": {
        "id": "RseDcpamNDig",
        "colab_type": "code",
        "colab": {
          "base_uri": "https://localhost:8080/",
          "height": 51
        },
        "outputId": "16ce9f01-f4f0-41b0-96be-b1a58ce063c6"
      },
      "cell_type": "code",
      "source": [
        "score, accuracy = model.evaluate(testX, testY, batch_size=16, verbose=0)\n",
        "print(\"Test fraction correct (NN-Score) = {:.2f}\".format(score))\n",
        "print(\"Test fraction correct (NN-Accuracy) = {:.2f}\".format(accuracy))"
      ],
      "execution_count": 128,
      "outputs": [
        {
          "output_type": "stream",
          "text": [
            "Test fraction correct (NN-Score) = 0.50\n",
            "Test fraction correct (NN-Accuracy) = 0.85\n"
          ],
          "name": "stdout"
        }
      ]
    },
    {
      "metadata": {
        "id": "pH18zDKTNLBa",
        "colab_type": "code",
        "colab": {}
      },
      "cell_type": "code",
      "source": [
        "pred_y = model.predict(testX)\n",
        "#np.round(pred_y, 2)"
      ],
      "execution_count": 0,
      "outputs": []
    },
    {
      "metadata": {
        "id": "b12mhqJcPyE8",
        "colab_type": "code",
        "colab": {
          "base_uri": "https://localhost:8080/",
          "height": 425
        },
        "outputId": "2a939b42-0be3-446f-e800-f6b05944fad9"
      },
      "cell_type": "code",
      "source": [
        "y_test_class = np.argmax(testY,axis=1)\n",
        "y_pred_class = np.argmax(pred_y,axis=1)\n",
        "\n",
        "print(y_test_class)\n",
        "print(y_pred_class)"
      ],
      "execution_count": 130,
      "outputs": [
        {
          "output_type": "stream",
          "text": [
            "[0 0 0 0 0 0 0 0 0 0 1 0 0 0 0 0 0 1 1 1 0 0 0 0 0 0 0 1 0 0 0 0 0 0 0 0 1\n",
            " 0 0 0 0 1 0 0 0 0 1 0 0 0 1 0 1 0 0 0 0 0 1 0 0 0 1 0 1 0 0 0 0 0 0 0 0 0\n",
            " 0 0 0 0 0 0 0 0 0 0 0 0 0 0 0 0 0 0 0 0 0 0 0 0 0 0 0 0 0 0 0 0 0 0 0 0 0\n",
            " 1 1 0 1 0 0 1 0 0 1 0 1 0 0 0 0 0 1 0 0 0 0 0 0 1 0 0 0 1 0 1 0 0 0 0 0 1\n",
            " 0 1 0 0 0 0 1 0 0 0 0 0 0 0 0 0 0 0 1 0 0 0 0 0 0 0 0 0 0 0 1 0 0 0 0 0 0\n",
            " 0 0 0 0 0 0 0 1 0 0 0 0 0 0 0 0 0 0 0 0 0 0 0 0 0 0 0 0 1 0 0 0 0 0 0 0 0\n",
            " 1 0 0 1 0 0 0 0 1 0 0 0 0 0 0 0 0 0 0 0 0 0 0 0 1 0 0 0 0 0 0 1 1 0 0 0 0\n",
            " 0 0 0 1 0 0 0 0 1 0 0 0 1 0 0 0 0 0 0 0 0 0 0 0 0 1 0 0 0 0 0 0 0 0 0 0 0\n",
            " 0 0 1 0 0 1 1 0 1 0 0 0 0 0 0 0 0 0 0 0 0 0 0 0 0 0 0 0 1 0 0 0 0 0 0 1 1\n",
            " 0 0 0 0 0 0 0 0 0 0 0 0 0 0 0 0 0 0 0 0 0 0 0 0 0 0 0 0 0 1 0 0 0 1 0 0 0\n",
            " 1 0 0 0 0 1 0 1 0 0 0 0 0 0 0 0 0 1 0 0 0 0 0 0 1 0 0 0 0 0 0 1 0 0 0 1 1\n",
            " 0 0 0 0 0 0 0 0 0 0 1 1 0 0 0 0 0 0 0 0 1]\n",
            "[0 0 0 0 0 0 0 0 0 0 0 0 0 0 0 0 0 0 0 0 0 0 0 0 0 0 0 0 0 0 0 0 0 0 0 0 0\n",
            " 0 0 0 0 0 0 0 0 0 0 1 0 0 1 0 0 0 0 0 0 0 0 0 0 0 1 0 0 0 0 0 0 0 0 0 0 0\n",
            " 0 0 0 0 0 0 0 0 0 0 1 0 0 0 0 0 0 0 0 0 0 0 0 0 0 0 0 0 0 0 0 0 0 0 1 0 0\n",
            " 0 1 0 0 0 0 0 0 0 0 0 0 0 0 0 0 0 0 0 0 0 0 0 0 0 0 0 0 0 0 1 0 0 0 0 0 0\n",
            " 0 0 0 0 0 0 0 0 0 0 0 0 0 0 0 0 0 0 1 0 0 0 0 0 0 0 0 0 0 0 0 0 0 0 0 0 0\n",
            " 0 0 0 0 0 0 0 0 0 0 0 0 0 0 0 0 0 0 0 0 0 0 0 0 0 0 0 0 1 1 0 0 0 0 0 0 0\n",
            " 0 0 0 0 0 0 0 0 1 1 0 0 0 0 0 0 0 0 0 0 0 0 0 0 0 0 0 0 0 0 0 0 0 0 0 0 0\n",
            " 0 0 0 0 1 0 0 0 0 0 0 0 0 0 0 0 0 0 0 0 0 0 0 0 0 0 0 0 0 0 0 0 0 0 0 0 0\n",
            " 0 0 0 0 0 0 0 0 0 0 0 0 0 0 0 0 0 0 0 0 0 0 0 0 0 0 0 0 0 0 0 0 0 0 0 1 0\n",
            " 0 0 0 0 0 0 0 0 0 0 0 0 0 0 0 0 0 0 0 0 0 1 0 0 0 0 0 0 0 0 0 0 0 0 0 0 0\n",
            " 0 0 1 0 0 0 0 0 0 0 0 0 0 0 0 0 0 0 0 0 1 0 0 0 0 0 0 0 0 1 0 0 0 0 0 0 0\n",
            " 0 0 0 0 0 0 0 1 0 0 0 0 0 0 0 0 0 0 0 0 0]\n"
          ],
          "name": "stdout"
        }
      ]
    },
    {
      "metadata": {
        "id": "QtzxJu1xP2pR",
        "colab_type": "code",
        "colab": {
          "base_uri": "https://localhost:8080/",
          "height": 170
        },
        "outputId": "0cf31676-bbe9-4649-ebd2-f911c27fdb97"
      },
      "cell_type": "code",
      "source": [
        "from sklearn.metrics import classification_report,confusion_matrix\n",
        "print(classification_report(y_test_class,y_pred_class))\n",
        "print(confusion_matrix(y_test_class,y_pred_class))"
      ],
      "execution_count": 131,
      "outputs": [
        {
          "output_type": "stream",
          "text": [
            "             precision    recall  f1-score   support\n",
            "\n",
            "          0       0.87      0.97      0.92       368\n",
            "          1       0.42      0.13      0.20        60\n",
            "\n",
            "avg / total       0.81      0.85      0.82       428\n",
            "\n",
            "[[357  11]\n",
            " [ 52   8]]\n"
          ],
          "name": "stdout"
        }
      ]
    },
    {
      "metadata": {
        "id": "nHMqZ75gP8ox",
        "colab_type": "code",
        "colab": {}
      },
      "cell_type": "code",
      "source": [
        "cm = confusion_matrix(y_test_class,y_pred_class)"
      ],
      "execution_count": 0,
      "outputs": []
    },
    {
      "metadata": {
        "id": "RxJVLqG2Q8FZ",
        "colab_type": "code",
        "colab": {
          "base_uri": "https://localhost:8080/",
          "height": 415
        },
        "outputId": "99ecdb6f-ac08-4d51-b5c3-57a4ee35107c"
      },
      "cell_type": "code",
      "source": [
        "def plot_confusion_matrix(cm, classes,\n",
        "                          title='Confusion matrix',\n",
        "                          cmap=plt.cm.Blues):\n",
        "    \n",
        "    plt.imshow(cm, interpolation='nearest', cmap=cmap)\n",
        "    plt.title(title)\n",
        "    plt.colorbar()\n",
        "    tick_marks = np.arange(len(classes))\n",
        "    plt.xticks(tick_marks, classes, rotation=45)\n",
        "    plt.yticks(tick_marks, classes)\n",
        "\n",
        "    fmt = 'd' \n",
        "    thresh = cm.max() / 2.\n",
        "    for i, j in itertools.product(range(cm.shape[0]), range(cm.shape[1])):\n",
        "        plt.text(j, i, format(cm[i, j], fmt),\n",
        "                 horizontalalignment=\"center\",\n",
        "                 color=\"white\" if cm[i, j] > thresh else \"black\")\n",
        "\n",
        "    plt.tight_layout()\n",
        "    plt.ylabel('True label')\n",
        "    plt.xlabel('Predicted label')\n",
        "    \n",
        "   \n",
        "import itertools\n",
        "class_names=np.array(['0','1'])\n",
        "plot_confusion_matrix(cm,class_names)"
      ],
      "execution_count": 133,
      "outputs": [
        {
          "output_type": "display_data",
          "data": {
            "image/png": "[encoded data removed]",
            "text/plain": [
              "<matplotlib.figure.Figure at 0x7f4beb9f2d30>"
            ]
          },
          "metadata": {
            "tags": []
          }
        }
      ]
    },
    {
      "metadata": {
        "id": "jIlflvTtRBJQ",
        "colab_type": "code",
        "colab": {
          "base_uri": "https://localhost:8080/",
          "height": 85
        },
        "outputId": "eab64158-1bc9-4946-fd44-527bc47e7e75"
      },
      "cell_type": "code",
      "source": [
        "print('We have detected ' + str(cm[1][1]) + ' conversions / ' + str(cm[1][1]+cm[1][0]) + ' total conversions.')\n",
        "print('\\nSo, the probability to detect a conversions is ' + str(cm[1][1]/(cm[1][1]+cm[1][0])))\n",
        "print(\"the accuracy is : \"+str((cm[0][0]+cm[1][1]) / (sum(cm[0]) + sum(cm[1]))))"
      ],
      "execution_count": 134,
      "outputs": [
        {
          "output_type": "stream",
          "text": [
            "We have detected 8 conversions / 60 total conversions.\n",
            "\n",
            "So, the probability to detect a conversions is 0.13333333333333333\n",
            "the accuracy is : 0.852803738317757\n"
          ],
          "name": "stdout"
        }
      ]
    },
    {
      "metadata": {
        "id": "SmoXiDm5Jtcc",
        "colab_type": "text"
      },
      "cell_type": "markdown",
      "source": [
        "### Resampling"
      ]
    },
    {
      "metadata": {
        "id": "_-FlHpSnKKX8",
        "colab_type": "code",
        "colab": {
          "base_uri": "https://localhost:8080/",
          "height": 85
        },
        "outputId": "b8dc72b0-256b-474f-fbc0-9d2ba734c307"
      },
      "cell_type": "code",
      "source": [
        "!pip install -U imbalanced-learn"
      ],
      "execution_count": 135,
      "outputs": [
        {
          "output_type": "stream",
          "text": [
            "Requirement already up-to-date: imbalanced-learn in /usr/local/lib/python3.6/dist-packages (0.3.3)\r\n",
            "Requirement not upgraded as not directly required: scikit-learn in /usr/local/lib/python3.6/dist-packages (from imbalanced-learn) (0.19.1)\r\n",
            "Requirement not upgraded as not directly required: scipy in /usr/local/lib/python3.6/dist-packages (from imbalanced-learn) (0.19.1)\r\n",
            "Requirement not upgraded as not directly required: numpy in /usr/local/lib/python3.6/dist-packages (from imbalanced-learn) (1.14.5)\r\n"
          ],
          "name": "stdout"
        }
      ]
    },
    {
      "metadata": {
        "id": "np_1GoV8JjMB",
        "colab_type": "code",
        "colab": {}
      },
      "cell_type": "code",
      "source": [
        "from imblearn.over_sampling import SMOTE, ADASYN\n"
      ],
      "execution_count": 0,
      "outputs": []
    },
    {
      "metadata": {
        "id": "8RhzFMgpMOOY",
        "colab_type": "code",
        "colab": {}
      },
      "cell_type": "code",
      "source": [
        "trainX, testX, trainY, testY = train_test_split(X, Y, test_size=0.33, random_state=42)"
      ],
      "execution_count": 0,
      "outputs": []
    },
    {
      "metadata": {
        "id": "m5KqTY0PLVTs",
        "colab_type": "code",
        "colab": {}
      },
      "cell_type": "code",
      "source": [
        "trainX, trainY = SMOTE().fit_sample(trainX, trainY)"
      ],
      "execution_count": 0,
      "outputs": []
    },
    {
      "metadata": {
        "id": "elHYQuAyO2Tq",
        "colab_type": "code",
        "colab": {
          "base_uri": "https://localhost:8080/",
          "height": 398
        },
        "outputId": "43bd210d-e5eb-444e-8353-519739c7edac"
      },
      "cell_type": "code",
      "source": [
        "plt.hist(trainY)"
      ],
      "execution_count": 139,
      "outputs": [
        {
          "output_type": "execute_result",
          "data": {
            "text/plain": [
              "(array([742.,   0.,   0.,   0.,   0.,   0.,   0.,   0.,   0., 742.]),\n",
              " array([0. , 0.1, 0.2, 0.3, 0.4, 0.5, 0.6, 0.7, 0.8, 0.9, 1. ]),\n",
              " <a list of 10 Patch objects>)"
            ]
          },
          "metadata": {
            "tags": []
          },
          "execution_count": 139
        },
        {
          "output_type": "display_data",
          "data": {
            "image/png": "[encoded data removed]",
            "text/plain": [
              "<matplotlib.figure.Figure at 0x7f4bea13e4a8>"
            ]
          },
          "metadata": {
            "tags": []
          }
        }
      ]
    },
    {
      "metadata": {
        "id": "Xg8K8q7ZNnVA",
        "colab_type": "code",
        "colab": {}
      },
      "cell_type": "code",
      "source": [
        "trainY = pd.get_dummies(trainY).values\n",
        "testY = pd.get_dummies(testY).values"
      ],
      "execution_count": 0,
      "outputs": []
    },
    {
      "metadata": {
        "id": "Pltmhu-uKBku",
        "colab_type": "code",
        "colab": {}
      },
      "cell_type": "code",
      "source": [
        "model = Sequential()\n",
        "model.add(Dense(16,\n",
        "                input_shape=(19,), \n",
        "                activation=\"sigmoid\",\n",
        "                kernel_regularizer=l2(0.001)))\n",
        "model.add(Dropout(0.5))\n",
        "model.add(Dense(2, activation=\"softmax\"))\n",
        "\n",
        "\n",
        "\n",
        "model.compile(loss='categorical_crossentropy',\n",
        "              metrics=['accuracy'],\n",
        "              optimizer='adam')\n",
        "\n",
        "history = model.fit(trainX, trainY, verbose=0, batch_size=1, epochs=40, validation_data=(testX, testY))"
      ],
      "execution_count": 0,
      "outputs": []
    },
    {
      "metadata": {
        "id": "DBfq5W24KgFr",
        "colab_type": "code",
        "colab": {
          "base_uri": "https://localhost:8080/",
          "height": 376
        },
        "outputId": "ba4e5a1c-70da-4e7b-f243-e91f3497bc94"
      },
      "cell_type": "code",
      "source": [
        "loss = history.history['loss']\n",
        "val_loss = history.history['val_loss']\n",
        "\n",
        "epochs = range(1, len(loss) + 1)\n",
        "\n",
        "plt.plot(epochs, loss, 'r--', label='Training loss')\n",
        "plt.plot(epochs, val_loss, 'b-', label='Validation loss')\n",
        "plt.title('Training and validation loss')\n",
        "plt.xlabel('Epochs')\n",
        "plt.ylabel('Loss')\n",
        "plt.legend()\n",
        "\n",
        "plt.show()"
      ],
      "execution_count": 142,
      "outputs": [
        {
          "output_type": "display_data",
          "data": {
            "image/png": "[encoded data removed]",
            "text/plain": [
              "<matplotlib.figure.Figure at 0x7f4bea1da940>"
            ]
          },
          "metadata": {
            "tags": []
          }
        }
      ]
    },
    {
      "metadata": {
        "id": "oiT90J5AKmAc",
        "colab_type": "code",
        "colab": {
          "base_uri": "https://localhost:8080/",
          "height": 376
        },
        "outputId": "22c98631-e3d7-4129-9162-09fba8507fc3"
      },
      "cell_type": "code",
      "source": [
        "plt.clf()   # clear figure\n",
        "\n",
        "acc = history.history['acc']\n",
        "val_acc = history.history['val_acc']\n",
        "\n",
        "plt.plot(epochs, acc, 'r--', label='Training acc')\n",
        "plt.plot(epochs, val_acc, 'b-', label='Validation acc')\n",
        "plt.title('Training and validation accuracy')\n",
        "plt.xlabel('Epochs')\n",
        "plt.ylabel('Loss')\n",
        "plt.legend()\n",
        "\n",
        "plt.show()"
      ],
      "execution_count": 143,
      "outputs": [
        {
          "output_type": "display_data",
          "data": {
            "image/png": "[encoded data removed]",
            "text/plain": [
              "<matplotlib.figure.Figure at 0x7f4bea211978>"
            ]
          },
          "metadata": {
            "tags": []
          }
        }
      ]
    },
    {
      "metadata": {
        "id": "f0O4bkyyKsb2",
        "colab_type": "code",
        "colab": {
          "base_uri": "https://localhost:8080/",
          "height": 51
        },
        "outputId": "c056da13-dfa7-44a1-ce77-6c12ab3ad2ae"
      },
      "cell_type": "code",
      "source": [
        "score, accuracy = model.evaluate(testX, testY, batch_size=16, verbose=0)\n",
        "print(\"Test fraction correct (NN-Score) = {:.2f}\".format(score))\n",
        "print(\"Test fraction correct (NN-Accuracy) = {:.2f}\".format(accuracy))"
      ],
      "execution_count": 144,
      "outputs": [
        {
          "output_type": "stream",
          "text": [
            "Test fraction correct (NN-Score) = 0.52\n",
            "Test fraction correct (NN-Accuracy) = 0.69\n"
          ],
          "name": "stdout"
        }
      ]
    },
    {
      "metadata": {
        "id": "ulFIqxclQVol",
        "colab_type": "text"
      },
      "cell_type": "markdown",
      "source": [
        "## CV"
      ]
    },
    {
      "metadata": {
        "id": "2zS2wcvUTRzf",
        "colab_type": "code",
        "colab": {
          "base_uri": "https://localhost:8080/",
          "height": 1377
        },
        "outputId": "99c143b2-423d-4d6d-f32a-97056a7ddcb1"
      },
      "cell_type": "code",
      "source": [
        "from sklearn.model_selection import StratifiedKFold\n",
        "kfold = StratifiedKFold(n_splits=10, shuffle=True, random_state=42)\n",
        "cvscores = []\n",
        "for train, test in kfold.split(X, Y):\n",
        "  print(X)\n",
        "  print(Y)"
      ],
      "execution_count": 145,
      "outputs": [
        {
          "output_type": "stream",
          "text": [
            "[[ 2.114  0.268  0.486 ... -0.191 -0.122 -0.074]\n",
            " [-0.245 -0.113 -0.158 ... -0.191 -0.122 -0.074]\n",
            " [-0.245 -0.113 -0.158 ... -0.191 -0.122 -0.074]\n",
            " ...\n",
            " [-0.245 -0.113 -0.158 ... -0.191 -0.122 -0.074]\n",
            " [-0.245 -0.113 -0.158 ... -0.191 -0.122 -0.074]\n",
            " [-0.245 -0.113 -0.158 ... -0.191 -0.122 -0.074]]\n",
            "[0 0 0 ... 0 0 0]\n",
            "[[ 2.114  0.268  0.486 ... -0.191 -0.122 -0.074]\n",
            " [-0.245 -0.113 -0.158 ... -0.191 -0.122 -0.074]\n",
            " [-0.245 -0.113 -0.158 ... -0.191 -0.122 -0.074]\n",
            " ...\n",
            " [-0.245 -0.113 -0.158 ... -0.191 -0.122 -0.074]\n",
            " [-0.245 -0.113 -0.158 ... -0.191 -0.122 -0.074]\n",
            " [-0.245 -0.113 -0.158 ... -0.191 -0.122 -0.074]]\n",
            "[0 0 0 ... 0 0 0]\n",
            "[[ 2.114  0.268  0.486 ... -0.191 -0.122 -0.074]\n",
            " [-0.245 -0.113 -0.158 ... -0.191 -0.122 -0.074]\n",
            " [-0.245 -0.113 -0.158 ... -0.191 -0.122 -0.074]\n",
            " ...\n",
            " [-0.245 -0.113 -0.158 ... -0.191 -0.122 -0.074]\n",
            " [-0.245 -0.113 -0.158 ... -0.191 -0.122 -0.074]\n",
            " [-0.245 -0.113 -0.158 ... -0.191 -0.122 -0.074]]\n",
            "[0 0 0 ... 0 0 0]\n",
            "[[ 2.114  0.268  0.486 ... -0.191 -0.122 -0.074]\n",
            " [-0.245 -0.113 -0.158 ... -0.191 -0.122 -0.074]\n",
            " [-0.245 -0.113 -0.158 ... -0.191 -0.122 -0.074]\n",
            " ...\n",
            " [-0.245 -0.113 -0.158 ... -0.191 -0.122 -0.074]\n",
            " [-0.245 -0.113 -0.158 ... -0.191 -0.122 -0.074]\n",
            " [-0.245 -0.113 -0.158 ... -0.191 -0.122 -0.074]]\n",
            "[0 0 0 ... 0 0 0]\n",
            "[[ 2.114  0.268  0.486 ... -0.191 -0.122 -0.074]\n",
            " [-0.245 -0.113 -0.158 ... -0.191 -0.122 -0.074]\n",
            " [-0.245 -0.113 -0.158 ... -0.191 -0.122 -0.074]\n",
            " ...\n",
            " [-0.245 -0.113 -0.158 ... -0.191 -0.122 -0.074]\n",
            " [-0.245 -0.113 -0.158 ... -0.191 -0.122 -0.074]\n",
            " [-0.245 -0.113 -0.158 ... -0.191 -0.122 -0.074]]\n",
            "[0 0 0 ... 0 0 0]\n",
            "[[ 2.114  0.268  0.486 ... -0.191 -0.122 -0.074]\n",
            " [-0.245 -0.113 -0.158 ... -0.191 -0.122 -0.074]\n",
            " [-0.245 -0.113 -0.158 ... -0.191 -0.122 -0.074]\n",
            " ...\n",
            " [-0.245 -0.113 -0.158 ... -0.191 -0.122 -0.074]\n",
            " [-0.245 -0.113 -0.158 ... -0.191 -0.122 -0.074]\n",
            " [-0.245 -0.113 -0.158 ... -0.191 -0.122 -0.074]]\n",
            "[0 0 0 ... 0 0 0]\n",
            "[[ 2.114  0.268  0.486 ... -0.191 -0.122 -0.074]\n",
            " [-0.245 -0.113 -0.158 ... -0.191 -0.122 -0.074]\n",
            " [-0.245 -0.113 -0.158 ... -0.191 -0.122 -0.074]\n",
            " ...\n",
            " [-0.245 -0.113 -0.158 ... -0.191 -0.122 -0.074]\n",
            " [-0.245 -0.113 -0.158 ... -0.191 -0.122 -0.074]\n",
            " [-0.245 -0.113 -0.158 ... -0.191 -0.122 -0.074]]\n",
            "[0 0 0 ... 0 0 0]\n",
            "[[ 2.114  0.268  0.486 ... -0.191 -0.122 -0.074]\n",
            " [-0.245 -0.113 -0.158 ... -0.191 -0.122 -0.074]\n",
            " [-0.245 -0.113 -0.158 ... -0.191 -0.122 -0.074]\n",
            " ...\n",
            " [-0.245 -0.113 -0.158 ... -0.191 -0.122 -0.074]\n",
            " [-0.245 -0.113 -0.158 ... -0.191 -0.122 -0.074]\n",
            " [-0.245 -0.113 -0.158 ... -0.191 -0.122 -0.074]]\n",
            "[0 0 0 ... 0 0 0]\n",
            "[[ 2.114  0.268  0.486 ... -0.191 -0.122 -0.074]\n",
            " [-0.245 -0.113 -0.158 ... -0.191 -0.122 -0.074]\n",
            " [-0.245 -0.113 -0.158 ... -0.191 -0.122 -0.074]\n",
            " ...\n",
            " [-0.245 -0.113 -0.158 ... -0.191 -0.122 -0.074]\n",
            " [-0.245 -0.113 -0.158 ... -0.191 -0.122 -0.074]\n",
            " [-0.245 -0.113 -0.158 ... -0.191 -0.122 -0.074]]\n",
            "[0 0 0 ... 0 0 0]\n",
            "[[ 2.114  0.268  0.486 ... -0.191 -0.122 -0.074]\n",
            " [-0.245 -0.113 -0.158 ... -0.191 -0.122 -0.074]\n",
            " [-0.245 -0.113 -0.158 ... -0.191 -0.122 -0.074]\n",
            " ...\n",
            " [-0.245 -0.113 -0.158 ... -0.191 -0.122 -0.074]\n",
            " [-0.245 -0.113 -0.158 ... -0.191 -0.122 -0.074]\n",
            " [-0.245 -0.113 -0.158 ... -0.191 -0.122 -0.074]]\n",
            "[0 0 0 ... 0 0 0]\n"
          ],
          "name": "stdout"
        }
      ]
    },
    {
      "metadata": {
        "id": "Jcm_cQhXU2nW",
        "colab_type": "code",
        "colab": {}
      },
      "cell_type": "code",
      "source": [
        ""
      ],
      "execution_count": 0,
      "outputs": []
    },
    {
      "metadata": {
        "id": "wq4lc_lbLOWl",
        "colab_type": "code",
        "colab": {
          "base_uri": "https://localhost:8080/",
          "height": 198
        },
        "outputId": "1187bf13-5f46-4be1-d5c9-13bdf4e8924c"
      },
      "cell_type": "code",
      "source": [
        "# define 10-fold cross validation test harness\n",
        "from sklearn.model_selection import StratifiedKFold\n",
        "kfold = StratifiedKFold(n_splits=10, shuffle=True, random_state=42)\n",
        "cvscores = []\n",
        "\n",
        "for train, test in kfold.split(X, Y):\n",
        "  \n",
        "  trainY = pd.get_dummies(Y[train]).values\n",
        "  testY = pd.get_dummies(Y[test]).values\n",
        "\n",
        "  # create model\n",
        "  model = Sequential()\n",
        "  model.add(Dense(16,\n",
        "                  input_shape=(19,), \n",
        "                  activation=\"sigmoid\",\n",
        "                  kernel_regularizer=l2(0.001)))\n",
        "  model.add(Dropout(0.5))\n",
        "  model.add(Dense(2, activation=\"softmax\"))\n",
        "\n",
        "\n",
        "\n",
        "  model.compile(loss='categorical_crossentropy',\n",
        "                metrics=['accuracy'],\n",
        "                optimizer='adam')\n",
        "\n",
        "  history = model.fit(X[train], trainY, verbose=0, batch_size=1, epochs=40, validation_data=(X[test], testY))\n",
        "  \n",
        "  scores = model.evaluate(X[test], testY, verbose=0)\n",
        "\t\n",
        "  \n",
        "\t#print(\"%s: %.2f%%\" % (model.metrics_names[1], scores[1]*100))\n",
        "  cvscores.append(scores[1] * 100)\n",
        "\n"
      ],
      "execution_count": 155,
      "outputs": [
        {
          "output_type": "error",
          "ename": "NameError",
          "evalue": "ignored",
          "traceback": [
            "\u001b[0;31m---------------------------------------------------------------------------\u001b[0m",
            "\u001b[0;31mNameError\u001b[0m                                 Traceback (most recent call last)",
            "\u001b[0;32m<ipython-input-155-ba5c8056a8b3>\u001b[0m in \u001b[0;36m<module>\u001b[0;34m()\u001b[0m\n\u001b[1;32m     31\u001b[0m   \u001b[0mcvscores\u001b[0m\u001b[0;34m.\u001b[0m\u001b[0mappend\u001b[0m\u001b[0;34m(\u001b[0m\u001b[0mscores\u001b[0m\u001b[0;34m[\u001b[0m\u001b[0;36m1\u001b[0m\u001b[0;34m]\u001b[0m \u001b[0;34m*\u001b[0m \u001b[0;36m100\u001b[0m\u001b[0;34m)\u001b[0m\u001b[0;34m\u001b[0m\u001b[0m\n\u001b[1;32m     32\u001b[0m \u001b[0;34m\u001b[0m\u001b[0m\n\u001b[0;32m---> 33\u001b[0;31m \u001b[0mprint\u001b[0m\u001b[0;34m(\u001b[0m\u001b[0;34m\"%.2f%% (+/- %.2f%%)\"\u001b[0m \u001b[0;34m%\u001b[0m \u001b[0;34m(\u001b[0m\u001b[0mnumpy\u001b[0m\u001b[0;34m.\u001b[0m\u001b[0mmean\u001b[0m\u001b[0;34m(\u001b[0m\u001b[0mcvscores\u001b[0m\u001b[0;34m)\u001b[0m\u001b[0;34m,\u001b[0m \u001b[0mnumpy\u001b[0m\u001b[0;34m.\u001b[0m\u001b[0mstd\u001b[0m\u001b[0;34m(\u001b[0m\u001b[0mcvscores\u001b[0m\u001b[0;34m)\u001b[0m\u001b[0;34m)\u001b[0m\u001b[0;34m)\u001b[0m\u001b[0;34m\u001b[0m\u001b[0m\n\u001b[0m",
            "\u001b[0;31mNameError\u001b[0m: name 'numpy' is not defined"
          ]
        }
      ]
    },
    {
      "metadata": {
        "id": "Mb2NEjcUQ_nD",
        "colab_type": "code",
        "colab": {
          "base_uri": "https://localhost:8080/",
          "height": 34
        },
        "outputId": "555c59cd-65e6-454f-f2bc-f5af13aa4a19"
      },
      "cell_type": "code",
      "source": [
        "print(\"%.2f%% (+/- %.2f%%)\" % (np.mean(cvscores), np.std(cvscores)))"
      ],
      "execution_count": 156,
      "outputs": [
        {
          "output_type": "stream",
          "text": [
            "85.95% (+/- 0.75%)\n"
          ],
          "name": "stdout"
        }
      ]
    },
    {
      "metadata": {
        "id": "H_VbwBURdIWO",
        "colab_type": "code",
        "colab": {
          "base_uri": "https://localhost:8080/",
          "height": 10506
        },
        "outputId": "9eaa1099-1fcc-4062-d02a-cc2de19b4888"
      },
      "cell_type": "code",
      "source": [
        "from keras.callbacks import ModelCheckpoint, EarlyStopping\n",
        "\n",
        "def create_model():\n",
        "  model = Sequential()\n",
        "  model.add(Dense(16,\n",
        "                  input_shape=(19,), \n",
        "                  activation=\"sigmoid\",\n",
        "                  kernel_regularizer=l2(0.001)))\n",
        "  model.add(Dropout(0.5))\n",
        "  model.add(Dense(2, activation=\"softmax\"))\n",
        "\n",
        "\n",
        "\n",
        "  model.compile(loss='categorical_crossentropy',\n",
        "                metrics=['accuracy'],\n",
        "                optimizer='adam')\n",
        "\n",
        "\n",
        "# https://medium.com/@literallywords/stratified-k-fold-with-keras-e57c487b1416\n",
        "# Instantiate the cross validator\n",
        "skf = StratifiedKFold(n_splits=10, shuffle=True)\n",
        "# Loop through the indices the split() method returns\n",
        "for index, (train_indices, val_indices) in enumerate(skf.split(X, Y)):\n",
        "    print (\"Training on fold \" + str(index+1) + \"/10...\")\n",
        "    # Generate batches from indices\n",
        "    xtrain, xval = X[train_indices], X[val_indices]\n",
        "    ytrain, yval = Y[train_indices], Y[val_indices]\n",
        "    \n",
        "    ytrain = pd.get_dummies(ytrain).values\n",
        "    yval = pd.get_dummies(yval).values\n",
        "    \n",
        "    # Clear model, and create it\n",
        "    model = Sequential()\n",
        "    model.add(Dense(16,\n",
        "                    input_shape=(19,), \n",
        "                    activation=\"sigmoid\",\n",
        "                    kernel_regularizer=l2(0.001)))\n",
        "    model.add(Dropout(0.5))\n",
        "    model.add(Dense(2, activation=\"softmax\"))\n",
        "\n",
        "\n",
        "\n",
        "    model.compile(loss='categorical_crossentropy',\n",
        "                  metrics=['accuracy'],\n",
        "                  optimizer='adam')\n",
        "    \n",
        "    best_weights_filepath = './best_weights.hdf5'\n",
        "    earlyStopping= EarlyStopping(monitor='val_loss', patience=10, verbose=1, mode='auto')\n",
        "    saveBestModel = ModelCheckpoint(best_weights_filepath, monitor='val_loss', verbose=1, save_best_only=True, mode='auto')\n",
        "    \n",
        "    # Debug message I guess\n",
        "    print (\"Training new iteration on \" + str(xtrain.shape[0]) + \" training samples, \" + str(xval.shape[0]) + \" validation samples, this may be a while...\")\n",
        "    \n",
        "    #history = model.fit(xtrain, ytrain, xval, yval)\n",
        "    history = model.fit(xtrain, ytrain, verbose=0, batch_size=1, epochs=40, validation_data=(xval, yval), callbacks=[earlyStopping, saveBestModel])\n",
        "    accuracy_history = history.history['acc']\n",
        "    val_accuracy_history = history.history['val_acc']\n",
        "    print (\"Last training accuracy: \" + str(accuracy_history[-1]) + \", last validation accuracy: \" + str(val_accuracy_history[-1]))"
      ],
      "execution_count": 165,
      "outputs": [
        {
          "output_type": "stream",
          "text": [
            "Training on fold 1/10...\n",
            "Training new iteration on 1165 training samples, 130 validation samples, this may be a while...\n",
            "\n",
            "Epoch 00001: val_loss improved from inf to 0.36889, saving model to ./best_weights.hdf5\n",
            "\n",
            "Epoch 00002: val_loss improved from 0.36889 to 0.35786, saving model to ./best_weights.hdf5\n",
            "\n",
            "Epoch 00003: val_loss improved from 0.35786 to 0.35684, saving model to ./best_weights.hdf5\n",
            "\n",
            "Epoch 00004: val_loss improved from 0.35684 to 0.35495, saving model to ./best_weights.hdf5\n",
            "\n",
            "Epoch 00005: val_loss improved from 0.35495 to 0.35317, saving model to ./best_weights.hdf5\n",
            "\n",
            "Epoch 00006: val_loss improved from 0.35317 to 0.35072, saving model to ./best_weights.hdf5\n",
            "\n",
            "Epoch 00007: val_loss improved from 0.35072 to 0.34963, saving model to ./best_weights.hdf5\n",
            "\n",
            "Epoch 00008: val_loss improved from 0.34963 to 0.34886, saving model to ./best_weights.hdf5\n",
            "\n",
            "Epoch 00009: val_loss improved from 0.34886 to 0.34707, saving model to ./best_weights.hdf5\n",
            "\n",
            "Epoch 00010: val_loss improved from 0.34707 to 0.34590, saving model to ./best_weights.hdf5\n",
            "\n",
            "Epoch 00011: val_loss improved from 0.34590 to 0.34542, saving model to ./best_weights.hdf5\n",
            "\n",
            "Epoch 00012: val_loss did not improve from 0.34542\n",
            "\n",
            "Epoch 00013: val_loss did not improve from 0.34542\n",
            "\n",
            "Epoch 00014: val_loss did not improve from 0.34542\n",
            "\n",
            "Epoch 00015: val_loss did not improve from 0.34542\n",
            "\n",
            "Epoch 00016: val_loss improved from 0.34542 to 0.34357, saving model to ./best_weights.hdf5\n",
            "\n",
            "Epoch 00017: val_loss improved from 0.34357 to 0.34202, saving model to ./best_weights.hdf5\n",
            "\n",
            "Epoch 00018: val_loss improved from 0.34202 to 0.34066, saving model to ./best_weights.hdf5\n",
            "\n",
            "Epoch 00019: val_loss improved from 0.34066 to 0.34038, saving model to ./best_weights.hdf5\n",
            "\n",
            "Epoch 00020: val_loss improved from 0.34038 to 0.33980, saving model to ./best_weights.hdf5\n",
            "\n",
            "Epoch 00021: val_loss improved from 0.33980 to 0.33758, saving model to ./best_weights.hdf5\n",
            "\n",
            "Epoch 00022: val_loss did not improve from 0.33758\n",
            "\n",
            "Epoch 00023: val_loss did not improve from 0.33758\n",
            "\n",
            "Epoch 00024: val_loss did not improve from 0.33758\n",
            "\n",
            "Epoch 00025: val_loss did not improve from 0.33758\n",
            "\n",
            "Epoch 00026: val_loss did not improve from 0.33758\n",
            "\n",
            "Epoch 00027: val_loss did not improve from 0.33758\n",
            "\n",
            "Epoch 00028: val_loss did not improve from 0.33758\n",
            "\n",
            "Epoch 00029: val_loss did not improve from 0.33758\n",
            "\n",
            "Epoch 00030: val_loss did not improve from 0.33758\n",
            "\n",
            "Epoch 00031: val_loss did not improve from 0.33758\n",
            "Epoch 00031: early stopping\n",
            "Last training accuracy: 0.863519313304721, last validation accuracy: 0.8461538461538461\n",
            "Training on fold 2/10...\n",
            "Training new iteration on 1165 training samples, 130 validation samples, this may be a while...\n",
            "\n",
            "Epoch 00001: val_loss improved from inf to 0.37046, saving model to ./best_weights.hdf5\n",
            "\n",
            "Epoch 00002: val_loss improved from 0.37046 to 0.34711, saving model to ./best_weights.hdf5\n",
            "\n",
            "Epoch 00003: val_loss improved from 0.34711 to 0.32921, saving model to ./best_weights.hdf5\n",
            "\n",
            "Epoch 00004: val_loss did not improve from 0.32921\n",
            "\n",
            "Epoch 00005: val_loss improved from 0.32921 to 0.32882, saving model to ./best_weights.hdf5\n",
            "\n",
            "Epoch 00006: val_loss improved from 0.32882 to 0.32260, saving model to ./best_weights.hdf5\n",
            "\n",
            "Epoch 00007: val_loss improved from 0.32260 to 0.32021, saving model to ./best_weights.hdf5\n",
            "\n",
            "Epoch 00008: val_loss did not improve from 0.32021\n",
            "\n",
            "Epoch 00009: val_loss did not improve from 0.32021\n",
            "\n",
            "Epoch 00010: val_loss did not improve from 0.32021\n",
            "\n",
            "Epoch 00011: val_loss did not improve from 0.32021\n",
            "\n",
            "Epoch 00012: val_loss improved from 0.32021 to 0.31940, saving model to ./best_weights.hdf5\n",
            "\n",
            "Epoch 00013: val_loss improved from 0.31940 to 0.31835, saving model to ./best_weights.hdf5\n",
            "\n",
            "Epoch 00014: val_loss did not improve from 0.31835\n",
            "\n",
            "Epoch 00015: val_loss did not improve from 0.31835\n",
            "\n",
            "Epoch 00016: val_loss improved from 0.31835 to 0.31761, saving model to ./best_weights.hdf5\n"
          ],
          "name": "stdout"
        },
        {
          "output_type": "stream",
          "text": [
            "\n",
            "Epoch 00017: val_loss did not improve from 0.31761\n",
            "\n",
            "Epoch 00018: val_loss did not improve from 0.31761\n",
            "\n",
            "Epoch 00019: val_loss did not improve from 0.31761\n",
            "\n",
            "Epoch 00020: val_loss did not improve from 0.31761\n",
            "\n",
            "Epoch 00021: val_loss did not improve from 0.31761\n",
            "\n",
            "Epoch 00022: val_loss did not improve from 0.31761\n",
            "\n",
            "Epoch 00023: val_loss improved from 0.31761 to 0.31719, saving model to ./best_weights.hdf5\n",
            "\n",
            "Epoch 00024: val_loss improved from 0.31719 to 0.31364, saving model to ./best_weights.hdf5\n",
            "\n",
            "Epoch 00025: val_loss did not improve from 0.31364\n",
            "\n",
            "Epoch 00026: val_loss did not improve from 0.31364\n",
            "\n",
            "Epoch 00027: val_loss did not improve from 0.31364\n",
            "\n",
            "Epoch 00028: val_loss improved from 0.31364 to 0.31330, saving model to ./best_weights.hdf5\n",
            "\n",
            "Epoch 00029: val_loss did not improve from 0.31330\n",
            "\n",
            "Epoch 00030: val_loss did not improve from 0.31330\n",
            "\n",
            "Epoch 00031: val_loss improved from 0.31330 to 0.31299, saving model to ./best_weights.hdf5\n",
            "\n",
            "Epoch 00032: val_loss improved from 0.31299 to 0.30941, saving model to ./best_weights.hdf5\n",
            "\n",
            "Epoch 00033: val_loss did not improve from 0.30941\n",
            "\n",
            "Epoch 00034: val_loss did not improve from 0.30941\n",
            "\n",
            "Epoch 00035: val_loss did not improve from 0.30941\n",
            "\n",
            "Epoch 00036: val_loss did not improve from 0.30941\n",
            "\n",
            "Epoch 00037: val_loss did not improve from 0.30941\n",
            "\n",
            "Epoch 00038: val_loss did not improve from 0.30941\n",
            "\n",
            "Epoch 00039: val_loss did not improve from 0.30941\n",
            "\n",
            "Epoch 00040: val_loss did not improve from 0.30941\n",
            "Last training accuracy: 0.8592274678111588, last validation accuracy: 0.8538461538461538\n",
            "Training on fold 3/10...\n",
            "Training new iteration on 1165 training samples, 130 validation samples, this may be a while...\n",
            "\n",
            "Epoch 00001: val_loss improved from inf to 0.37075, saving model to ./best_weights.hdf5\n",
            "\n",
            "Epoch 00002: val_loss improved from 0.37075 to 0.35318, saving model to ./best_weights.hdf5\n",
            "\n",
            "Epoch 00003: val_loss improved from 0.35318 to 0.34649, saving model to ./best_weights.hdf5\n",
            "\n",
            "Epoch 00004: val_loss did not improve from 0.34649\n",
            "\n",
            "Epoch 00005: val_loss improved from 0.34649 to 0.34464, saving model to ./best_weights.hdf5\n",
            "\n",
            "Epoch 00006: val_loss did not improve from 0.34464\n",
            "\n",
            "Epoch 00007: val_loss did not improve from 0.34464\n",
            "\n",
            "Epoch 00008: val_loss did not improve from 0.34464\n",
            "\n",
            "Epoch 00009: val_loss did not improve from 0.34464\n",
            "\n",
            "Epoch 00010: val_loss did not improve from 0.34464\n",
            "\n",
            "Epoch 00011: val_loss did not improve from 0.34464\n",
            "\n",
            "Epoch 00012: val_loss did not improve from 0.34464\n",
            "\n",
            "Epoch 00013: val_loss did not improve from 0.34464\n",
            "\n",
            "Epoch 00014: val_loss did not improve from 0.34464\n",
            "\n",
            "Epoch 00015: val_loss did not improve from 0.34464\n",
            "Epoch 00015: early stopping\n",
            "Last training accuracy: 0.8600858369098713, last validation accuracy: 0.8538461538461538\n",
            "Training on fold 4/10...\n",
            "Training new iteration on 1165 training samples, 130 validation samples, this may be a while...\n",
            "\n",
            "Epoch 00001: val_loss improved from inf to 0.39327, saving model to ./best_weights.hdf5\n",
            "\n",
            "Epoch 00002: val_loss improved from 0.39327 to 0.36345, saving model to ./best_weights.hdf5\n",
            "\n",
            "Epoch 00003: val_loss improved from 0.36345 to 0.35371, saving model to ./best_weights.hdf5\n",
            "\n",
            "Epoch 00004: val_loss improved from 0.35371 to 0.35198, saving model to ./best_weights.hdf5\n",
            "\n",
            "Epoch 00005: val_loss did not improve from 0.35198\n",
            "\n",
            "Epoch 00006: val_loss improved from 0.35198 to 0.35115, saving model to ./best_weights.hdf5\n",
            "\n",
            "Epoch 00007: val_loss did not improve from 0.35115\n",
            "\n",
            "Epoch 00008: val_loss improved from 0.35115 to 0.34931, saving model to ./best_weights.hdf5\n",
            "\n",
            "Epoch 00009: val_loss did not improve from 0.34931\n",
            "\n",
            "Epoch 00010: val_loss improved from 0.34931 to 0.34806, saving model to ./best_weights.hdf5\n",
            "\n",
            "Epoch 00011: val_loss did not improve from 0.34806\n",
            "\n",
            "Epoch 00012: val_loss did not improve from 0.34806\n",
            "\n",
            "Epoch 00013: val_loss did not improve from 0.34806\n"
          ],
          "name": "stdout"
        },
        {
          "output_type": "stream",
          "text": [
            "\n",
            "Epoch 00014: val_loss did not improve from 0.34806\n",
            "\n",
            "Epoch 00015: val_loss did not improve from 0.34806\n",
            "\n",
            "Epoch 00016: val_loss did not improve from 0.34806\n",
            "\n",
            "Epoch 00017: val_loss did not improve from 0.34806\n",
            "\n",
            "Epoch 00018: val_loss did not improve from 0.34806\n",
            "\n",
            "Epoch 00019: val_loss did not improve from 0.34806\n",
            "\n",
            "Epoch 00020: val_loss did not improve from 0.34806\n",
            "Epoch 00020: early stopping\n",
            "Last training accuracy: 0.8600858369098713, last validation accuracy: 0.8615384615384616\n",
            "Training on fold 5/10...\n",
            "Training new iteration on 1165 training samples, 130 validation samples, this may be a while...\n",
            "\n",
            "Epoch 00001: val_loss improved from inf to 0.38286, saving model to ./best_weights.hdf5\n",
            "\n",
            "Epoch 00002: val_loss improved from 0.38286 to 0.37014, saving model to ./best_weights.hdf5\n",
            "\n",
            "Epoch 00003: val_loss improved from 0.37014 to 0.36400, saving model to ./best_weights.hdf5\n",
            "\n",
            "Epoch 00004: val_loss did not improve from 0.36400\n",
            "\n",
            "Epoch 00005: val_loss did not improve from 0.36400\n",
            "\n",
            "Epoch 00006: val_loss did not improve from 0.36400\n",
            "\n",
            "Epoch 00007: val_loss improved from 0.36400 to 0.36258, saving model to ./best_weights.hdf5\n",
            "\n",
            "Epoch 00008: val_loss improved from 0.36258 to 0.36210, saving model to ./best_weights.hdf5\n",
            "\n",
            "Epoch 00009: val_loss did not improve from 0.36210\n",
            "\n",
            "Epoch 00010: val_loss improved from 0.36210 to 0.35892, saving model to ./best_weights.hdf5\n",
            "\n",
            "Epoch 00011: val_loss did not improve from 0.35892\n",
            "\n",
            "Epoch 00012: val_loss improved from 0.35892 to 0.35620, saving model to ./best_weights.hdf5\n",
            "\n",
            "Epoch 00013: val_loss did not improve from 0.35620\n",
            "\n",
            "Epoch 00014: val_loss did not improve from 0.35620\n",
            "\n",
            "Epoch 00015: val_loss did not improve from 0.35620\n",
            "\n",
            "Epoch 00016: val_loss did not improve from 0.35620\n",
            "\n",
            "Epoch 00017: val_loss did not improve from 0.35620\n",
            "\n",
            "Epoch 00018: val_loss improved from 0.35620 to 0.35606, saving model to ./best_weights.hdf5\n",
            "\n",
            "Epoch 00019: val_loss did not improve from 0.35606\n",
            "\n",
            "Epoch 00020: val_loss did not improve from 0.35606\n",
            "\n",
            "Epoch 00021: val_loss did not improve from 0.35606\n",
            "\n",
            "Epoch 00022: val_loss did not improve from 0.35606\n",
            "\n",
            "Epoch 00023: val_loss did not improve from 0.35606\n",
            "\n",
            "Epoch 00024: val_loss did not improve from 0.35606\n",
            "\n",
            "Epoch 00025: val_loss did not improve from 0.35606\n",
            "\n",
            "Epoch 00026: val_loss did not improve from 0.35606\n",
            "\n",
            "Epoch 00027: val_loss did not improve from 0.35606\n",
            "\n",
            "Epoch 00028: val_loss did not improve from 0.35606\n",
            "Epoch 00028: early stopping\n",
            "Last training accuracy: 0.8643776824034335, last validation accuracy: 0.8538461538461538\n",
            "Training on fold 6/10...\n",
            "Training new iteration on 1166 training samples, 129 validation samples, this may be a while...\n",
            "\n",
            "Epoch 00001: val_loss improved from inf to 0.37635, saving model to ./best_weights.hdf5\n",
            "\n",
            "Epoch 00002: val_loss improved from 0.37635 to 0.35171, saving model to ./best_weights.hdf5\n",
            "\n",
            "Epoch 00003: val_loss improved from 0.35171 to 0.34336, saving model to ./best_weights.hdf5\n",
            "\n",
            "Epoch 00004: val_loss improved from 0.34336 to 0.34068, saving model to ./best_weights.hdf5\n",
            "\n",
            "Epoch 00005: val_loss improved from 0.34068 to 0.33671, saving model to ./best_weights.hdf5\n",
            "\n",
            "Epoch 00006: val_loss did not improve from 0.33671\n",
            "\n",
            "Epoch 00007: val_loss improved from 0.33671 to 0.33659, saving model to ./best_weights.hdf5\n",
            "\n",
            "Epoch 00008: val_loss did not improve from 0.33659\n",
            "\n",
            "Epoch 00009: val_loss did not improve from 0.33659\n",
            "\n",
            "Epoch 00010: val_loss did not improve from 0.33659\n",
            "\n",
            "Epoch 00011: val_loss improved from 0.33659 to 0.33654, saving model to ./best_weights.hdf5\n",
            "\n",
            "Epoch 00012: val_loss did not improve from 0.33654\n",
            "\n",
            "Epoch 00013: val_loss did not improve from 0.33654\n",
            "\n",
            "Epoch 00014: val_loss did not improve from 0.33654\n",
            "\n",
            "Epoch 00015: val_loss did not improve from 0.33654\n",
            "\n",
            "Epoch 00016: val_loss did not improve from 0.33654\n"
          ],
          "name": "stdout"
        },
        {
          "output_type": "stream",
          "text": [
            "\n",
            "Epoch 00017: val_loss did not improve from 0.33654\n",
            "\n",
            "Epoch 00018: val_loss did not improve from 0.33654\n",
            "\n",
            "Epoch 00019: val_loss did not improve from 0.33654\n",
            "\n",
            "Epoch 00020: val_loss did not improve from 0.33654\n",
            "\n",
            "Epoch 00021: val_loss did not improve from 0.33654\n",
            "Epoch 00021: early stopping\n",
            "Last training accuracy: 0.8584905660377359, last validation accuracy: 0.8527131782945736\n",
            "Training on fold 7/10...\n",
            "Training new iteration on 1166 training samples, 129 validation samples, this may be a while...\n",
            "\n",
            "Epoch 00001: val_loss improved from inf to 0.35324, saving model to ./best_weights.hdf5\n",
            "\n",
            "Epoch 00002: val_loss improved from 0.35324 to 0.32631, saving model to ./best_weights.hdf5\n",
            "\n",
            "Epoch 00003: val_loss improved from 0.32631 to 0.30982, saving model to ./best_weights.hdf5\n",
            "\n",
            "Epoch 00004: val_loss improved from 0.30982 to 0.30045, saving model to ./best_weights.hdf5\n",
            "\n",
            "Epoch 00005: val_loss improved from 0.30045 to 0.29559, saving model to ./best_weights.hdf5\n",
            "\n",
            "Epoch 00006: val_loss improved from 0.29559 to 0.29357, saving model to ./best_weights.hdf5\n",
            "\n",
            "Epoch 00007: val_loss did not improve from 0.29357\n",
            "\n",
            "Epoch 00008: val_loss improved from 0.29357 to 0.29223, saving model to ./best_weights.hdf5\n",
            "\n",
            "Epoch 00009: val_loss did not improve from 0.29223\n",
            "\n",
            "Epoch 00010: val_loss improved from 0.29223 to 0.29083, saving model to ./best_weights.hdf5\n",
            "\n",
            "Epoch 00011: val_loss improved from 0.29083 to 0.28906, saving model to ./best_weights.hdf5\n",
            "\n",
            "Epoch 00012: val_loss improved from 0.28906 to 0.28548, saving model to ./best_weights.hdf5\n",
            "\n",
            "Epoch 00013: val_loss did not improve from 0.28548\n",
            "\n",
            "Epoch 00014: val_loss improved from 0.28548 to 0.28218, saving model to ./best_weights.hdf5\n",
            "\n",
            "Epoch 00015: val_loss did not improve from 0.28218\n",
            "\n",
            "Epoch 00016: val_loss did not improve from 0.28218\n",
            "\n",
            "Epoch 00017: val_loss did not improve from 0.28218\n",
            "\n",
            "Epoch 00018: val_loss did not improve from 0.28218\n",
            "\n",
            "Epoch 00019: val_loss did not improve from 0.28218\n",
            "\n",
            "Epoch 00020: val_loss did not improve from 0.28218\n",
            "\n",
            "Epoch 00021: val_loss did not improve from 0.28218\n",
            "\n",
            "Epoch 00022: val_loss did not improve from 0.28218\n",
            "\n",
            "Epoch 00023: val_loss improved from 0.28218 to 0.28193, saving model to ./best_weights.hdf5\n",
            "\n",
            "Epoch 00024: val_loss did not improve from 0.28193\n",
            "\n",
            "Epoch 00025: val_loss did not improve from 0.28193\n",
            "\n",
            "Epoch 00026: val_loss did not improve from 0.28193\n",
            "\n",
            "Epoch 00027: val_loss did not improve from 0.28193\n",
            "\n",
            "Epoch 00028: val_loss did not improve from 0.28193\n",
            "\n",
            "Epoch 00029: val_loss did not improve from 0.28193\n",
            "\n",
            "Epoch 00030: val_loss improved from 0.28193 to 0.27980, saving model to ./best_weights.hdf5\n",
            "\n",
            "Epoch 00031: val_loss did not improve from 0.27980\n",
            "\n",
            "Epoch 00032: val_loss did not improve from 0.27980\n",
            "\n",
            "Epoch 00033: val_loss did not improve from 0.27980\n",
            "\n",
            "Epoch 00034: val_loss did not improve from 0.27980\n",
            "\n",
            "Epoch 00035: val_loss did not improve from 0.27980\n",
            "\n",
            "Epoch 00036: val_loss did not improve from 0.27980\n",
            "\n",
            "Epoch 00037: val_loss did not improve from 0.27980\n",
            "\n",
            "Epoch 00038: val_loss did not improve from 0.27980\n",
            "\n",
            "Epoch 00039: val_loss did not improve from 0.27980\n",
            "\n",
            "Epoch 00040: val_loss did not improve from 0.27980\n",
            "Epoch 00040: early stopping\n",
            "Last training accuracy: 0.8584905660377359, last validation accuracy: 0.875968992248062\n",
            "Training on fold 8/10...\n",
            "Training new iteration on 1166 training samples, 129 validation samples, this may be a while...\n",
            "\n",
            "Epoch 00001: val_loss improved from inf to 0.35711, saving model to ./best_weights.hdf5\n",
            "\n",
            "Epoch 00002: val_loss improved from 0.35711 to 0.33258, saving model to ./best_weights.hdf5\n",
            "\n",
            "Epoch 00003: val_loss improved from 0.33258 to 0.32698, saving model to ./best_weights.hdf5\n",
            "\n",
            "Epoch 00004: val_loss did not improve from 0.32698\n",
            "\n",
            "Epoch 00005: val_loss improved from 0.32698 to 0.32587, saving model to ./best_weights.hdf5\n"
          ],
          "name": "stdout"
        },
        {
          "output_type": "stream",
          "text": [
            "\n",
            "Epoch 00006: val_loss did not improve from 0.32587\n",
            "\n",
            "Epoch 00007: val_loss did not improve from 0.32587\n",
            "\n",
            "Epoch 00008: val_loss did not improve from 0.32587\n",
            "\n",
            "Epoch 00009: val_loss did not improve from 0.32587\n",
            "\n",
            "Epoch 00010: val_loss did not improve from 0.32587\n",
            "\n",
            "Epoch 00011: val_loss did not improve from 0.32587\n",
            "\n",
            "Epoch 00012: val_loss did not improve from 0.32587\n",
            "\n",
            "Epoch 00013: val_loss did not improve from 0.32587\n",
            "\n",
            "Epoch 00014: val_loss did not improve from 0.32587\n",
            "\n",
            "Epoch 00015: val_loss did not improve from 0.32587\n",
            "Epoch 00015: early stopping\n",
            "Last training accuracy: 0.8567753001715266, last validation accuracy: 0.8604651162790697\n",
            "Training on fold 9/10...\n",
            "Training new iteration on 1166 training samples, 129 validation samples, this may be a while...\n",
            "\n",
            "Epoch 00001: val_loss improved from inf to 0.33688, saving model to ./best_weights.hdf5\n",
            "\n",
            "Epoch 00002: val_loss improved from 0.33688 to 0.31531, saving model to ./best_weights.hdf5\n",
            "\n",
            "Epoch 00003: val_loss improved from 0.31531 to 0.30120, saving model to ./best_weights.hdf5\n",
            "\n",
            "Epoch 00004: val_loss did not improve from 0.30120\n",
            "\n",
            "Epoch 00005: val_loss improved from 0.30120 to 0.29567, saving model to ./best_weights.hdf5\n",
            "\n",
            "Epoch 00006: val_loss improved from 0.29567 to 0.29345, saving model to ./best_weights.hdf5\n",
            "\n",
            "Epoch 00007: val_loss improved from 0.29345 to 0.29338, saving model to ./best_weights.hdf5\n",
            "\n",
            "Epoch 00008: val_loss improved from 0.29338 to 0.29337, saving model to ./best_weights.hdf5\n",
            "\n",
            "Epoch 00009: val_loss did not improve from 0.29337\n",
            "\n",
            "Epoch 00010: val_loss improved from 0.29337 to 0.29144, saving model to ./best_weights.hdf5\n",
            "\n",
            "Epoch 00011: val_loss improved from 0.29144 to 0.29055, saving model to ./best_weights.hdf5\n",
            "\n",
            "Epoch 00012: val_loss improved from 0.29055 to 0.28820, saving model to ./best_weights.hdf5\n",
            "\n",
            "Epoch 00013: val_loss did not improve from 0.28820\n",
            "\n",
            "Epoch 00014: val_loss improved from 0.28820 to 0.28749, saving model to ./best_weights.hdf5\n",
            "\n",
            "Epoch 00015: val_loss did not improve from 0.28749\n",
            "\n",
            "Epoch 00016: val_loss improved from 0.28749 to 0.28675, saving model to ./best_weights.hdf5\n",
            "\n",
            "Epoch 00017: val_loss did not improve from 0.28675\n",
            "\n",
            "Epoch 00018: val_loss did not improve from 0.28675\n",
            "\n",
            "Epoch 00019: val_loss did not improve from 0.28675\n",
            "\n",
            "Epoch 00020: val_loss improved from 0.28675 to 0.28628, saving model to ./best_weights.hdf5\n",
            "\n",
            "Epoch 00021: val_loss did not improve from 0.28628\n",
            "\n",
            "Epoch 00022: val_loss did not improve from 0.28628\n",
            "\n",
            "Epoch 00023: val_loss did not improve from 0.28628\n",
            "\n",
            "Epoch 00024: val_loss did not improve from 0.28628\n",
            "\n",
            "Epoch 00025: val_loss did not improve from 0.28628\n",
            "\n",
            "Epoch 00026: val_loss did not improve from 0.28628\n",
            "\n",
            "Epoch 00027: val_loss did not improve from 0.28628\n",
            "\n",
            "Epoch 00028: val_loss improved from 0.28628 to 0.28624, saving model to ./best_weights.hdf5\n",
            "\n",
            "Epoch 00029: val_loss improved from 0.28624 to 0.28544, saving model to ./best_weights.hdf5\n",
            "\n",
            "Epoch 00030: val_loss did not improve from 0.28544\n",
            "\n",
            "Epoch 00031: val_loss did not improve from 0.28544\n",
            "\n",
            "Epoch 00032: val_loss did not improve from 0.28544\n",
            "\n",
            "Epoch 00033: val_loss improved from 0.28544 to 0.28480, saving model to ./best_weights.hdf5\n",
            "\n",
            "Epoch 00034: val_loss improved from 0.28480 to 0.28423, saving model to ./best_weights.hdf5\n",
            "\n",
            "Epoch 00035: val_loss improved from 0.28423 to 0.28382, saving model to ./best_weights.hdf5\n",
            "\n",
            "Epoch 00036: val_loss did not improve from 0.28382\n",
            "\n",
            "Epoch 00037: val_loss did not improve from 0.28382\n",
            "\n",
            "Epoch 00038: val_loss did not improve from 0.28382\n",
            "\n",
            "Epoch 00039: val_loss did not improve from 0.28382\n",
            "\n",
            "Epoch 00040: val_loss did not improve from 0.28382\n",
            "Last training accuracy: 0.8610634648370498, last validation accuracy: 0.8682170542635659\n",
            "Training on fold 10/10...\n",
            "Training new iteration on 1166 training samples, 129 validation samples, this may be a while...\n",
            "\n",
            "Epoch 00001: val_loss improved from inf to 0.36705, saving model to ./best_weights.hdf5\n"
          ],
          "name": "stdout"
        },
        {
          "output_type": "stream",
          "text": [
            "\n",
            "Epoch 00002: val_loss improved from 0.36705 to 0.35157, saving model to ./best_weights.hdf5\n",
            "\n",
            "Epoch 00003: val_loss improved from 0.35157 to 0.33551, saving model to ./best_weights.hdf5\n",
            "\n",
            "Epoch 00004: val_loss improved from 0.33551 to 0.33129, saving model to ./best_weights.hdf5\n",
            "\n",
            "Epoch 00005: val_loss improved from 0.33129 to 0.32997, saving model to ./best_weights.hdf5\n",
            "\n",
            "Epoch 00006: val_loss improved from 0.32997 to 0.32538, saving model to ./best_weights.hdf5\n",
            "\n",
            "Epoch 00007: val_loss did not improve from 0.32538\n",
            "\n",
            "Epoch 00008: val_loss did not improve from 0.32538\n",
            "\n",
            "Epoch 00009: val_loss did not improve from 0.32538\n",
            "\n",
            "Epoch 00010: val_loss improved from 0.32538 to 0.32512, saving model to ./best_weights.hdf5\n",
            "\n",
            "Epoch 00011: val_loss improved from 0.32512 to 0.31903, saving model to ./best_weights.hdf5\n",
            "\n",
            "Epoch 00012: val_loss improved from 0.31903 to 0.31880, saving model to ./best_weights.hdf5\n",
            "\n",
            "Epoch 00013: val_loss improved from 0.31880 to 0.31334, saving model to ./best_weights.hdf5\n",
            "\n",
            "Epoch 00014: val_loss did not improve from 0.31334\n",
            "\n",
            "Epoch 00015: val_loss did not improve from 0.31334\n",
            "\n",
            "Epoch 00016: val_loss did not improve from 0.31334\n",
            "\n",
            "Epoch 00017: val_loss did not improve from 0.31334\n",
            "\n",
            "Epoch 00018: val_loss did not improve from 0.31334\n",
            "\n",
            "Epoch 00019: val_loss improved from 0.31334 to 0.31314, saving model to ./best_weights.hdf5\n",
            "\n",
            "Epoch 00020: val_loss did not improve from 0.31314\n",
            "\n",
            "Epoch 00021: val_loss did not improve from 0.31314\n",
            "\n",
            "Epoch 00022: val_loss did not improve from 0.31314\n",
            "\n",
            "Epoch 00023: val_loss improved from 0.31314 to 0.31176, saving model to ./best_weights.hdf5\n",
            "\n",
            "Epoch 00024: val_loss did not improve from 0.31176\n",
            "\n",
            "Epoch 00025: val_loss did not improve from 0.31176\n",
            "\n",
            "Epoch 00026: val_loss did not improve from 0.31176\n",
            "\n",
            "Epoch 00027: val_loss did not improve from 0.31176\n",
            "\n",
            "Epoch 00028: val_loss did not improve from 0.31176\n",
            "\n",
            "Epoch 00029: val_loss did not improve from 0.31176\n",
            "\n",
            "Epoch 00030: val_loss did not improve from 0.31176\n",
            "\n",
            "Epoch 00031: val_loss improved from 0.31176 to 0.31166, saving model to ./best_weights.hdf5\n",
            "\n",
            "Epoch 00032: val_loss improved from 0.31166 to 0.30986, saving model to ./best_weights.hdf5\n",
            "\n",
            "Epoch 00033: val_loss improved from 0.30986 to 0.30968, saving model to ./best_weights.hdf5\n",
            "\n",
            "Epoch 00034: val_loss improved from 0.30968 to 0.30880, saving model to ./best_weights.hdf5\n",
            "\n",
            "Epoch 00035: val_loss did not improve from 0.30880\n",
            "\n",
            "Epoch 00036: val_loss did not improve from 0.30880\n",
            "\n",
            "Epoch 00037: val_loss did not improve from 0.30880\n",
            "\n",
            "Epoch 00038: val_loss did not improve from 0.30880\n",
            "\n",
            "Epoch 00039: val_loss did not improve from 0.30880\n",
            "\n",
            "Epoch 00040: val_loss did not improve from 0.30880\n",
            "Last training accuracy: 0.8584905660377359, last validation accuracy: 0.8604651162790697\n"
          ],
          "name": "stdout"
        }
      ]
    },
    {
      "metadata": {
        "id": "kqQil0-aepAA",
        "colab_type": "code",
        "colab": {}
      },
      "cell_type": "code",
      "source": [
        "# https://machinelearningmastery.com/check-point-deep-learning-models-keras/"
      ],
      "execution_count": 0,
      "outputs": []
    },
    {
      "metadata": {
        "id": "5QzpLLUgwblR",
        "colab_type": "code",
        "colab": {
          "base_uri": "https://localhost:8080/",
          "height": 51
        },
        "outputId": "b353abfe-bb32-477f-c4a6-f8f811370789"
      },
      "cell_type": "code",
      "source": [
        "!ls"
      ],
      "execution_count": 167,
      "outputs": [
        {
          "output_type": "stream",
          "text": [
            "best_weights.hdf5  train_data (1).csv  train_data.csv\r\n",
            "datalab\t\t   train_data (2).csv\r\n"
          ],
          "name": "stdout"
        }
      ]
    },
    {
      "metadata": {
        "id": "08JJYkVN1p29",
        "colab_type": "code",
        "colab": {}
      },
      "cell_type": "code",
      "source": [
        ""
      ],
      "execution_count": 0,
      "outputs": []
    }
  ]
}